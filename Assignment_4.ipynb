{
  "nbformat": 4,
  "nbformat_minor": 0,
  "metadata": {
    "colab": {
      "name": "Assignment 4.ipynb",
      "provenance": []
    },
    "kernelspec": {
      "name": "python3",
      "display_name": "Python 3"
    },
    "language_info": {
      "name": "python"
    }
  },
  "cells": [
    {
      "cell_type": "markdown",
      "metadata": {
        "id": "AGPL2NRBM8Ke"
      },
      "source": [
        "**Name :** Saloni Agrawal\n",
        "**E-mail :** sagrawal168@gmail.com"
      ]
    },
    {
      "cell_type": "markdown",
      "metadata": {
        "id": "SKnAku9Ij-ck"
      },
      "source": [
        "**Question 1**\n",
        "What is plotly?\n",
        "\n",
        "Ans. Plotly is a python's open source visualizing library which enables users to create interactive and beautiful web based visualizations.\n",
        "Plotly offers a python sandbox that is NumPy supported, datagrid and GUI for analysis and stylind graphs. Plotly's biggest advantage is its ability to deploy the graphs to the web as web apps by using Dash."
      ]
    },
    {
      "cell_type": "markdown",
      "metadata": {
        "id": "fHAf7MjQmQfc"
      },
      "source": [
        "**Question 2**\n",
        "Where it is used?\n",
        "\n",
        "Ans. Plotly, among other visualization tools & libraries, is a graphing library designed especially for Data Scientists, engineers, and programmers to easily visualize trends in their data.\n",
        "There are many other tools such as matplotlib, seaborn, Bokeh,etc. but I feel plotly as a Tableau extension of Python which can develop fancy web apps, whhich makes visualizing data at any scale much easier for Data Scientists.\n",
        "While Seaborn and Matplotlib are static, Plotly charts allow you to hover over values, zoom in/ out your graphs to determine outliers or detecting anomalies in time series plots.\n",
        "One can also use plotly to create collaborative Dashboards which allows the Data Scientists or programmers to unserstand data trends over different user input. "
      ]
    },
    {
      "cell_type": "markdown",
      "metadata": {
        "id": "Ksqxq1dUpnw0"
      },
      "source": [
        "**Question 3**\n",
        "Plot a pie chart of Indian car companies market share % values."
      ]
    },
    {
      "cell_type": "code",
      "metadata": {
        "id": "GCHcPAmtj8xP"
      },
      "source": [
        "import numpy as np\n",
        "import pandas as pd\n",
        "import plotly.express as px"
      ],
      "execution_count": null,
      "outputs": []
    },
    {
      "cell_type": "code",
      "metadata": {
        "colab": {
          "base_uri": "https://localhost:8080/",
          "height": 542
        },
        "id": "6CreT3hnj82p",
        "outputId": "f0a19e63-36b2-4a69-c8a5-baabdbe182e7"
      },
      "source": [
        "share = [45.61, 16.41, 9.25, 5.96, 5.21, 4.68, 3.85, 2.42, 2.22, 1.72, 1.25,\n",
        "         0.63, 0.42, 0.36]\n",
        "companies = ['Maruti', 'Hyundai', 'Tata', 'Kia', 'Mahindra', 'Toyota', 'Renault', \n",
        "             'Ford', 'Honda','MG', 'Nissan', 'VW', 'Jeep', 'Skoda']\n",
        " \n",
        "fig = px.pie(values= share,  names=companies)\n",
        "fig.show()"
      ],
      "execution_count": null,
      "outputs": [
        {
          "output_type": "display_data",
          "data": {
            "text/html": [
              "<html>\n",
              "<head><meta charset=\"utf-8\" /></head>\n",
              "<body>\n",
              "    <div>\n",
              "            <script src=\"https://cdnjs.cloudflare.com/ajax/libs/mathjax/2.7.5/MathJax.js?config=TeX-AMS-MML_SVG\"></script><script type=\"text/javascript\">if (window.MathJax) {MathJax.Hub.Config({SVG: {font: \"STIX-Web\"}});}</script>\n",
              "                <script type=\"text/javascript\">window.PlotlyConfig = {MathJaxConfig: 'local'};</script>\n",
              "        <script src=\"https://cdn.plot.ly/plotly-latest.min.js\"></script>    \n",
              "            <div id=\"2c1f6e6d-522f-462b-bbf3-d9ddc9ed8d53\" class=\"plotly-graph-div\" style=\"height:525px; width:100%;\"></div>\n",
              "            <script type=\"text/javascript\">\n",
              "                \n",
              "                    window.PLOTLYENV=window.PLOTLYENV || {};\n",
              "                    \n",
              "                if (document.getElementById(\"2c1f6e6d-522f-462b-bbf3-d9ddc9ed8d53\")) {\n",
              "                    Plotly.newPlot(\n",
              "                        '2c1f6e6d-522f-462b-bbf3-d9ddc9ed8d53',\n",
              "                        [{\"domain\": {\"x\": [0.0, 1.0], \"y\": [0.0, 1.0]}, \"hoverlabel\": {\"namelength\": 0}, \"hovertemplate\": \"label=%{label}<br>value=%{value}\", \"labels\": [\"Maruti\", \"Hyundai\", \"Tata\", \"Kia\", \"Mahindra\", \"Toyota\", \"Renault\", \"Ford\", \"Honda\", \"MG\", \"Nissan\", \"VW\", \"Jeep\", \"Skoda\"], \"legendgroup\": \"\", \"name\": \"\", \"showlegend\": true, \"type\": \"pie\", \"values\": [45.61, 16.41, 9.25, 5.96, 5.21, 4.68, 3.85, 2.42, 2.22, 1.72, 1.25, 0.63, 0.42, 0.36]}],\n",
              "                        {\"legend\": {\"tracegroupgap\": 0}, \"margin\": {\"t\": 60}, \"template\": {\"data\": {\"bar\": [{\"error_x\": {\"color\": \"#2a3f5f\"}, \"error_y\": {\"color\": \"#2a3f5f\"}, \"marker\": {\"line\": {\"color\": \"#E5ECF6\", \"width\": 0.5}}, \"type\": \"bar\"}], \"barpolar\": [{\"marker\": {\"line\": {\"color\": \"#E5ECF6\", \"width\": 0.5}}, \"type\": \"barpolar\"}], \"carpet\": [{\"aaxis\": {\"endlinecolor\": \"#2a3f5f\", \"gridcolor\": \"white\", \"linecolor\": \"white\", \"minorgridcolor\": \"white\", \"startlinecolor\": \"#2a3f5f\"}, \"baxis\": {\"endlinecolor\": \"#2a3f5f\", \"gridcolor\": \"white\", \"linecolor\": \"white\", \"minorgridcolor\": \"white\", \"startlinecolor\": \"#2a3f5f\"}, \"type\": \"carpet\"}], \"choropleth\": [{\"colorbar\": {\"outlinewidth\": 0, \"ticks\": \"\"}, \"type\": \"choropleth\"}], \"contour\": [{\"colorbar\": {\"outlinewidth\": 0, \"ticks\": \"\"}, \"colorscale\": [[0.0, \"#0d0887\"], [0.1111111111111111, \"#46039f\"], [0.2222222222222222, \"#7201a8\"], [0.3333333333333333, \"#9c179e\"], [0.4444444444444444, \"#bd3786\"], [0.5555555555555556, \"#d8576b\"], [0.6666666666666666, \"#ed7953\"], [0.7777777777777778, \"#fb9f3a\"], [0.8888888888888888, \"#fdca26\"], [1.0, \"#f0f921\"]], \"type\": \"contour\"}], \"contourcarpet\": [{\"colorbar\": {\"outlinewidth\": 0, \"ticks\": \"\"}, \"type\": \"contourcarpet\"}], \"heatmap\": [{\"colorbar\": {\"outlinewidth\": 0, \"ticks\": \"\"}, \"colorscale\": [[0.0, \"#0d0887\"], [0.1111111111111111, \"#46039f\"], [0.2222222222222222, \"#7201a8\"], [0.3333333333333333, \"#9c179e\"], [0.4444444444444444, \"#bd3786\"], [0.5555555555555556, \"#d8576b\"], [0.6666666666666666, \"#ed7953\"], [0.7777777777777778, \"#fb9f3a\"], [0.8888888888888888, \"#fdca26\"], [1.0, \"#f0f921\"]], \"type\": \"heatmap\"}], \"heatmapgl\": [{\"colorbar\": {\"outlinewidth\": 0, \"ticks\": \"\"}, \"colorscale\": [[0.0, \"#0d0887\"], [0.1111111111111111, \"#46039f\"], [0.2222222222222222, \"#7201a8\"], [0.3333333333333333, \"#9c179e\"], [0.4444444444444444, \"#bd3786\"], [0.5555555555555556, \"#d8576b\"], [0.6666666666666666, \"#ed7953\"], [0.7777777777777778, \"#fb9f3a\"], [0.8888888888888888, \"#fdca26\"], [1.0, \"#f0f921\"]], \"type\": \"heatmapgl\"}], \"histogram\": [{\"marker\": {\"colorbar\": {\"outlinewidth\": 0, \"ticks\": \"\"}}, \"type\": \"histogram\"}], \"histogram2d\": [{\"colorbar\": {\"outlinewidth\": 0, \"ticks\": \"\"}, \"colorscale\": [[0.0, \"#0d0887\"], [0.1111111111111111, \"#46039f\"], [0.2222222222222222, \"#7201a8\"], [0.3333333333333333, \"#9c179e\"], [0.4444444444444444, \"#bd3786\"], [0.5555555555555556, \"#d8576b\"], [0.6666666666666666, \"#ed7953\"], [0.7777777777777778, \"#fb9f3a\"], [0.8888888888888888, \"#fdca26\"], [1.0, \"#f0f921\"]], \"type\": \"histogram2d\"}], \"histogram2dcontour\": [{\"colorbar\": {\"outlinewidth\": 0, \"ticks\": \"\"}, \"colorscale\": [[0.0, \"#0d0887\"], [0.1111111111111111, \"#46039f\"], [0.2222222222222222, \"#7201a8\"], [0.3333333333333333, \"#9c179e\"], [0.4444444444444444, \"#bd3786\"], [0.5555555555555556, \"#d8576b\"], [0.6666666666666666, \"#ed7953\"], [0.7777777777777778, \"#fb9f3a\"], [0.8888888888888888, \"#fdca26\"], [1.0, \"#f0f921\"]], \"type\": \"histogram2dcontour\"}], \"mesh3d\": [{\"colorbar\": {\"outlinewidth\": 0, \"ticks\": \"\"}, \"type\": \"mesh3d\"}], \"parcoords\": [{\"line\": {\"colorbar\": {\"outlinewidth\": 0, \"ticks\": \"\"}}, \"type\": \"parcoords\"}], \"pie\": [{\"automargin\": true, \"type\": \"pie\"}], \"scatter\": [{\"marker\": {\"colorbar\": {\"outlinewidth\": 0, \"ticks\": \"\"}}, \"type\": \"scatter\"}], \"scatter3d\": [{\"line\": {\"colorbar\": {\"outlinewidth\": 0, \"ticks\": \"\"}}, \"marker\": {\"colorbar\": {\"outlinewidth\": 0, \"ticks\": \"\"}}, \"type\": \"scatter3d\"}], \"scattercarpet\": [{\"marker\": {\"colorbar\": {\"outlinewidth\": 0, \"ticks\": \"\"}}, \"type\": \"scattercarpet\"}], \"scattergeo\": [{\"marker\": {\"colorbar\": {\"outlinewidth\": 0, \"ticks\": \"\"}}, \"type\": \"scattergeo\"}], \"scattergl\": [{\"marker\": {\"colorbar\": {\"outlinewidth\": 0, \"ticks\": \"\"}}, \"type\": \"scattergl\"}], \"scattermapbox\": [{\"marker\": {\"colorbar\": {\"outlinewidth\": 0, \"ticks\": \"\"}}, \"type\": \"scattermapbox\"}], \"scatterpolar\": [{\"marker\": {\"colorbar\": {\"outlinewidth\": 0, \"ticks\": \"\"}}, \"type\": \"scatterpolar\"}], \"scatterpolargl\": [{\"marker\": {\"colorbar\": {\"outlinewidth\": 0, \"ticks\": \"\"}}, \"type\": \"scatterpolargl\"}], \"scatterternary\": [{\"marker\": {\"colorbar\": {\"outlinewidth\": 0, \"ticks\": \"\"}}, \"type\": \"scatterternary\"}], \"surface\": [{\"colorbar\": {\"outlinewidth\": 0, \"ticks\": \"\"}, \"colorscale\": [[0.0, \"#0d0887\"], [0.1111111111111111, \"#46039f\"], [0.2222222222222222, \"#7201a8\"], [0.3333333333333333, \"#9c179e\"], [0.4444444444444444, \"#bd3786\"], [0.5555555555555556, \"#d8576b\"], [0.6666666666666666, \"#ed7953\"], [0.7777777777777778, \"#fb9f3a\"], [0.8888888888888888, \"#fdca26\"], [1.0, \"#f0f921\"]], \"type\": \"surface\"}], \"table\": [{\"cells\": {\"fill\": {\"color\": \"#EBF0F8\"}, \"line\": {\"color\": \"white\"}}, \"header\": {\"fill\": {\"color\": \"#C8D4E3\"}, \"line\": {\"color\": \"white\"}}, \"type\": \"table\"}]}, \"layout\": {\"annotationdefaults\": {\"arrowcolor\": \"#2a3f5f\", \"arrowhead\": 0, \"arrowwidth\": 1}, \"coloraxis\": {\"colorbar\": {\"outlinewidth\": 0, \"ticks\": \"\"}}, \"colorscale\": {\"diverging\": [[0, \"#8e0152\"], [0.1, \"#c51b7d\"], [0.2, \"#de77ae\"], [0.3, \"#f1b6da\"], [0.4, \"#fde0ef\"], [0.5, \"#f7f7f7\"], [0.6, \"#e6f5d0\"], [0.7, \"#b8e186\"], [0.8, \"#7fbc41\"], [0.9, \"#4d9221\"], [1, \"#276419\"]], \"sequential\": [[0.0, \"#0d0887\"], [0.1111111111111111, \"#46039f\"], [0.2222222222222222, \"#7201a8\"], [0.3333333333333333, \"#9c179e\"], [0.4444444444444444, \"#bd3786\"], [0.5555555555555556, \"#d8576b\"], [0.6666666666666666, \"#ed7953\"], [0.7777777777777778, \"#fb9f3a\"], [0.8888888888888888, \"#fdca26\"], [1.0, \"#f0f921\"]], \"sequentialminus\": [[0.0, \"#0d0887\"], [0.1111111111111111, \"#46039f\"], [0.2222222222222222, \"#7201a8\"], [0.3333333333333333, \"#9c179e\"], [0.4444444444444444, \"#bd3786\"], [0.5555555555555556, \"#d8576b\"], [0.6666666666666666, \"#ed7953\"], [0.7777777777777778, \"#fb9f3a\"], [0.8888888888888888, \"#fdca26\"], [1.0, \"#f0f921\"]]}, \"colorway\": [\"#636efa\", \"#EF553B\", \"#00cc96\", \"#ab63fa\", \"#FFA15A\", \"#19d3f3\", \"#FF6692\", \"#B6E880\", \"#FF97FF\", \"#FECB52\"], \"font\": {\"color\": \"#2a3f5f\"}, \"geo\": {\"bgcolor\": \"white\", \"lakecolor\": \"white\", \"landcolor\": \"#E5ECF6\", \"showlakes\": true, \"showland\": true, \"subunitcolor\": \"white\"}, \"hoverlabel\": {\"align\": \"left\"}, \"hovermode\": \"closest\", \"mapbox\": {\"style\": \"light\"}, \"paper_bgcolor\": \"white\", \"plot_bgcolor\": \"#E5ECF6\", \"polar\": {\"angularaxis\": {\"gridcolor\": \"white\", \"linecolor\": \"white\", \"ticks\": \"\"}, \"bgcolor\": \"#E5ECF6\", \"radialaxis\": {\"gridcolor\": \"white\", \"linecolor\": \"white\", \"ticks\": \"\"}}, \"scene\": {\"xaxis\": {\"backgroundcolor\": \"#E5ECF6\", \"gridcolor\": \"white\", \"gridwidth\": 2, \"linecolor\": \"white\", \"showbackground\": true, \"ticks\": \"\", \"zerolinecolor\": \"white\"}, \"yaxis\": {\"backgroundcolor\": \"#E5ECF6\", \"gridcolor\": \"white\", \"gridwidth\": 2, \"linecolor\": \"white\", \"showbackground\": true, \"ticks\": \"\", \"zerolinecolor\": \"white\"}, \"zaxis\": {\"backgroundcolor\": \"#E5ECF6\", \"gridcolor\": \"white\", \"gridwidth\": 2, \"linecolor\": \"white\", \"showbackground\": true, \"ticks\": \"\", \"zerolinecolor\": \"white\"}}, \"shapedefaults\": {\"line\": {\"color\": \"#2a3f5f\"}}, \"ternary\": {\"aaxis\": {\"gridcolor\": \"white\", \"linecolor\": \"white\", \"ticks\": \"\"}, \"baxis\": {\"gridcolor\": \"white\", \"linecolor\": \"white\", \"ticks\": \"\"}, \"bgcolor\": \"#E5ECF6\", \"caxis\": {\"gridcolor\": \"white\", \"linecolor\": \"white\", \"ticks\": \"\"}}, \"title\": {\"x\": 0.05}, \"xaxis\": {\"automargin\": true, \"gridcolor\": \"white\", \"linecolor\": \"white\", \"ticks\": \"\", \"title\": {\"standoff\": 15}, \"zerolinecolor\": \"white\", \"zerolinewidth\": 2}, \"yaxis\": {\"automargin\": true, \"gridcolor\": \"white\", \"linecolor\": \"white\", \"ticks\": \"\", \"title\": {\"standoff\": 15}, \"zerolinecolor\": \"white\", \"zerolinewidth\": 2}}}},\n",
              "                        {\"responsive\": true}\n",
              "                    ).then(function(){\n",
              "                            \n",
              "var gd = document.getElementById('2c1f6e6d-522f-462b-bbf3-d9ddc9ed8d53');\n",
              "var x = new MutationObserver(function (mutations, observer) {{\n",
              "        var display = window.getComputedStyle(gd).display;\n",
              "        if (!display || display === 'none') {{\n",
              "            console.log([gd, 'removed!']);\n",
              "            Plotly.purge(gd);\n",
              "            observer.disconnect();\n",
              "        }}\n",
              "}});\n",
              "\n",
              "// Listen for the removal of the full notebook cells\n",
              "var notebookContainer = gd.closest('#notebook-container');\n",
              "if (notebookContainer) {{\n",
              "    x.observe(notebookContainer, {childList: true});\n",
              "}}\n",
              "\n",
              "// Listen for the clearing of the current output cell\n",
              "var outputEl = gd.closest('.output');\n",
              "if (outputEl) {{\n",
              "    x.observe(outputEl, {childList: true});\n",
              "}}\n",
              "\n",
              "                        })\n",
              "                };\n",
              "                \n",
              "            </script>\n",
              "        </div>\n",
              "</body>\n",
              "</html>"
            ]
          },
          "metadata": {
            "tags": []
          }
        }
      ]
    },
    {
      "cell_type": "markdown",
      "metadata": {
        "id": "xQmRjLUhytLJ"
      },
      "source": [
        "**Question 4**\n",
        "Plot a Bar Chart with India's covid-19 Acive cases"
      ]
    },
    {
      "cell_type": "code",
      "metadata": {
        "colab": {
          "base_uri": "https://localhost:8080/",
          "height": 357
        },
        "id": "RjpDfEnRj87c",
        "outputId": "5ec179e8-bc49-4a00-82db-270ae7800c60"
      },
      "source": [
        "data = pd.read_csv(\"/covid.csv\")\n",
        "data"
      ],
      "execution_count": null,
      "outputs": [
        {
          "output_type": "execute_result",
          "data": {
            "text/html": [
              "<div>\n",
              "<style scoped>\n",
              "    .dataframe tbody tr th:only-of-type {\n",
              "        vertical-align: middle;\n",
              "    }\n",
              "\n",
              "    .dataframe tbody tr th {\n",
              "        vertical-align: top;\n",
              "    }\n",
              "\n",
              "    .dataframe thead th {\n",
              "        text-align: right;\n",
              "    }\n",
              "</style>\n",
              "<table border=\"1\" class=\"dataframe\">\n",
              "  <thead>\n",
              "    <tr style=\"text-align: right;\">\n",
              "      <th></th>\n",
              "      <th>STATE/UTS</th>\n",
              "      <th>TOTAL CASES</th>\n",
              "      <th>ACTIVE</th>\n",
              "      <th>DISCHARGED</th>\n",
              "      <th>DEATHS</th>\n",
              "      <th>Unnamed: 5</th>\n",
              "      <th>Unnamed: 6</th>\n",
              "      <th>Unnamed: 7</th>\n",
              "    </tr>\n",
              "  </thead>\n",
              "  <tbody>\n",
              "    <tr>\n",
              "      <th>0</th>\n",
              "      <td>Maharashtra</td>\n",
              "      <td>61,40,96,88,992</td>\n",
              "      <td>1,15,49,42,204</td>\n",
              "      <td>5,90,04,40,10,458</td>\n",
              "      <td>12,50,34,738</td>\n",
              "      <td>NaN</td>\n",
              "      <td>NaN</td>\n",
              "      <td>NaN</td>\n",
              "    </tr>\n",
              "    <tr>\n",
              "      <th>1</th>\n",
              "      <td>Kerala</td>\n",
              "      <td>3,03,90,29,13,563</td>\n",
              "      <td>1,13,59,52,979</td>\n",
              "      <td>2,91,10,54,10,454</td>\n",
              "      <td>1,43,80,130</td>\n",
              "      <td>NaN</td>\n",
              "      <td>NaN</td>\n",
              "      <td>NaN</td>\n",
              "    </tr>\n",
              "    <tr>\n",
              "      <th>2</th>\n",
              "      <td>Karnataka</td>\n",
              "      <td>28,67,15,82,290</td>\n",
              "      <td>3,79,29,823</td>\n",
              "      <td>27,93,49,83,045</td>\n",
              "      <td>35,73,168</td>\n",
              "      <td>NaN</td>\n",
              "      <td>NaN</td>\n",
              "      <td>NaN</td>\n",
              "    </tr>\n",
              "    <tr>\n",
              "      <th>3</th>\n",
              "      <td>Tamil Nadu</td>\n",
              "      <td>25,13,09,83,039</td>\n",
              "      <td>3,32,24,441</td>\n",
              "      <td>24,46,55,23,411</td>\n",
              "      <td>33,32,269</td>\n",
              "      <td>NaN</td>\n",
              "      <td>NaN</td>\n",
              "      <td>NaN</td>\n",
              "    </tr>\n",
              "    <tr>\n",
              "      <th>4</th>\n",
              "      <td>Andhra Pradesh</td>\n",
              "      <td>19,17,25,33,040</td>\n",
              "      <td>30,30,01,550</td>\n",
              "      <td>18,73,99,34,576</td>\n",
              "      <td>12,96,014</td>\n",
              "      <td>NaN</td>\n",
              "      <td>NaN</td>\n",
              "      <td>NaN</td>\n",
              "    </tr>\n",
              "    <tr>\n",
              "      <th>5</th>\n",
              "      <td>Uttar Pradesh</td>\n",
              "      <td>17,07,12,783</td>\n",
              "      <td>1,69,792</td>\n",
              "      <td>1,68,27,41,162</td>\n",
              "      <td>22,68,913</td>\n",
              "      <td>NaN</td>\n",
              "      <td>NaN</td>\n",
              "      <td>NaN</td>\n",
              "    </tr>\n",
              "    <tr>\n",
              "      <th>6</th>\n",
              "      <td>West Bengal</td>\n",
              "      <td>1,51,02,08,990</td>\n",
              "      <td>1,56,90,453</td>\n",
              "      <td>14,76,63,21,424</td>\n",
              "      <td>17,88,619</td>\n",
              "      <td>NaN</td>\n",
              "      <td>NaN</td>\n",
              "      <td>NaN</td>\n",
              "    </tr>\n",
              "    <tr>\n",
              "      <th>7</th>\n",
              "      <td>Delhi</td>\n",
              "      <td>14,34,95,481</td>\n",
              "      <td>79849</td>\n",
              "      <td>1,40,91,45,127</td>\n",
              "      <td>2,50,113</td>\n",
              "      <td>NaN</td>\n",
              "      <td>NaN</td>\n",
              "      <td>NaN</td>\n",
              "    </tr>\n",
              "    <tr>\n",
              "      <th>8</th>\n",
              "      <td>Chhattisgarh</td>\n",
              "      <td>99,74,26,391</td>\n",
              "      <td>4,99,379</td>\n",
              "      <td>97,89,61,307</td>\n",
              "      <td>1,34,725</td>\n",
              "      <td>NaN</td>\n",
              "      <td>NaN</td>\n",
              "      <td>NaN</td>\n",
              "    </tr>\n",
              "    <tr>\n",
              "      <th>9</th>\n",
              "      <td>Rajasthan</td>\n",
              "      <td>9,53,01,862</td>\n",
              "      <td>8159</td>\n",
              "      <td>9,43,26,070</td>\n",
              "      <td>89,431</td>\n",
              "      <td>NaN</td>\n",
              "      <td>NaN</td>\n",
              "      <td>NaN</td>\n",
              "    </tr>\n",
              "  </tbody>\n",
              "</table>\n",
              "</div>"
            ],
            "text/plain": [
              "        STATE/UTS        TOTAL CASES  ... Unnamed: 6 Unnamed: 7\n",
              "0     Maharashtra    61,40,96,88,992  ...        NaN        NaN\n",
              "1          Kerala  3,03,90,29,13,563  ...        NaN        NaN\n",
              "2       Karnataka    28,67,15,82,290  ...        NaN        NaN\n",
              "3      Tamil Nadu    25,13,09,83,039  ...        NaN        NaN\n",
              "4  Andhra Pradesh    19,17,25,33,040  ...        NaN        NaN\n",
              "5   Uttar Pradesh       17,07,12,783  ...        NaN        NaN\n",
              "6     West Bengal     1,51,02,08,990  ...        NaN        NaN\n",
              "7           Delhi       14,34,95,481  ...        NaN        NaN\n",
              "8    Chhattisgarh       99,74,26,391  ...        NaN        NaN\n",
              "9       Rajasthan        9,53,01,862  ...        NaN        NaN\n",
              "\n",
              "[10 rows x 8 columns]"
            ]
          },
          "metadata": {
            "tags": []
          },
          "execution_count": 6
        }
      ]
    },
    {
      "cell_type": "code",
      "metadata": {
        "colab": {
          "base_uri": "https://localhost:8080/",
          "height": 542
        },
        "id": "t6inNog57EEB",
        "outputId": "e6f23cc3-d072-475f-a57f-2fe71bcf6326"
      },
      "source": [
        "fig = px.bar(data, y='TOTAL CASES', x='STATE/UTS', text='TOTAL CASES', color='ACTIVE')\n",
        "# Put bar total value above bars with 2 values of precision\n",
        "fig.update_layout(xaxis_tickangle=-45)\n",
        "fig"
      ],
      "execution_count": null,
      "outputs": [
        {
          "output_type": "display_data",
          "data": {
            "text/html": [
              "<html>\n",
              "<head><meta charset=\"utf-8\" /></head>\n",
              "<body>\n",
              "    <div>\n",
              "            <script src=\"https://cdnjs.cloudflare.com/ajax/libs/mathjax/2.7.5/MathJax.js?config=TeX-AMS-MML_SVG\"></script><script type=\"text/javascript\">if (window.MathJax) {MathJax.Hub.Config({SVG: {font: \"STIX-Web\"}});}</script>\n",
              "                <script type=\"text/javascript\">window.PlotlyConfig = {MathJaxConfig: 'local'};</script>\n",
              "        <script src=\"https://cdn.plot.ly/plotly-latest.min.js\"></script>    \n",
              "            <div id=\"981d82a8-9d7d-43c8-a8b1-1b841bbe329e\" class=\"plotly-graph-div\" style=\"height:525px; width:100%;\"></div>\n",
              "            <script type=\"text/javascript\">\n",
              "                \n",
              "                    window.PLOTLYENV=window.PLOTLYENV || {};\n",
              "                    \n",
              "                if (document.getElementById(\"981d82a8-9d7d-43c8-a8b1-1b841bbe329e\")) {\n",
              "                    Plotly.newPlot(\n",
              "                        '981d82a8-9d7d-43c8-a8b1-1b841bbe329e',\n",
              "                        [{\"alignmentgroup\": \"True\", \"hoverlabel\": {\"namelength\": 0}, \"hovertemplate\": \"ACTIVE=1,15,49,42,204<br>STATE/UTS=%{x}<br>TOTAL CASES=%{text}\", \"legendgroup\": \"ACTIVE=1,15,49,42,204\", \"marker\": {\"color\": \"#636efa\"}, \"name\": \"ACTIVE=1,15,49,42,204\", \"offsetgroup\": \"ACTIVE=1,15,49,42,204\", \"orientation\": \"v\", \"showlegend\": true, \"text\": [\"61,40,96,88,992\"], \"textposition\": \"auto\", \"type\": \"bar\", \"x\": [\"Maharashtra\"], \"xaxis\": \"x\", \"y\": [\"61,40,96,88,992\"], \"yaxis\": \"y\"}, {\"alignmentgroup\": \"True\", \"hoverlabel\": {\"namelength\": 0}, \"hovertemplate\": \"ACTIVE=1,13,59,52,979<br>STATE/UTS=%{x}<br>TOTAL CASES=%{text}\", \"legendgroup\": \"ACTIVE=1,13,59,52,979\", \"marker\": {\"color\": \"#EF553B\"}, \"name\": \"ACTIVE=1,13,59,52,979\", \"offsetgroup\": \"ACTIVE=1,13,59,52,979\", \"orientation\": \"v\", \"showlegend\": true, \"text\": [\"3,03,90,29,13,563\"], \"textposition\": \"auto\", \"type\": \"bar\", \"x\": [\"Kerala\"], \"xaxis\": \"x\", \"y\": [\"3,03,90,29,13,563\"], \"yaxis\": \"y\"}, {\"alignmentgroup\": \"True\", \"hoverlabel\": {\"namelength\": 0}, \"hovertemplate\": \"ACTIVE=3,79,29,823<br>STATE/UTS=%{x}<br>TOTAL CASES=%{text}\", \"legendgroup\": \"ACTIVE=3,79,29,823\", \"marker\": {\"color\": \"#00cc96\"}, \"name\": \"ACTIVE=3,79,29,823\", \"offsetgroup\": \"ACTIVE=3,79,29,823\", \"orientation\": \"v\", \"showlegend\": true, \"text\": [\"28,67,15,82,290\"], \"textposition\": \"auto\", \"type\": \"bar\", \"x\": [\"Karnataka\"], \"xaxis\": \"x\", \"y\": [\"28,67,15,82,290\"], \"yaxis\": \"y\"}, {\"alignmentgroup\": \"True\", \"hoverlabel\": {\"namelength\": 0}, \"hovertemplate\": \"ACTIVE=3,32,24,441<br>STATE/UTS=%{x}<br>TOTAL CASES=%{text}\", \"legendgroup\": \"ACTIVE=3,32,24,441\", \"marker\": {\"color\": \"#ab63fa\"}, \"name\": \"ACTIVE=3,32,24,441\", \"offsetgroup\": \"ACTIVE=3,32,24,441\", \"orientation\": \"v\", \"showlegend\": true, \"text\": [\"25,13,09,83,039\"], \"textposition\": \"auto\", \"type\": \"bar\", \"x\": [\"Tamil Nadu\"], \"xaxis\": \"x\", \"y\": [\"25,13,09,83,039\"], \"yaxis\": \"y\"}, {\"alignmentgroup\": \"True\", \"hoverlabel\": {\"namelength\": 0}, \"hovertemplate\": \"ACTIVE=30,30,01,550<br>STATE/UTS=%{x}<br>TOTAL CASES=%{text}\", \"legendgroup\": \"ACTIVE=30,30,01,550\", \"marker\": {\"color\": \"#FFA15A\"}, \"name\": \"ACTIVE=30,30,01,550\", \"offsetgroup\": \"ACTIVE=30,30,01,550\", \"orientation\": \"v\", \"showlegend\": true, \"text\": [\"19,17,25,33,040\"], \"textposition\": \"auto\", \"type\": \"bar\", \"x\": [\"Andhra Pradesh\"], \"xaxis\": \"x\", \"y\": [\"19,17,25,33,040\"], \"yaxis\": \"y\"}, {\"alignmentgroup\": \"True\", \"hoverlabel\": {\"namelength\": 0}, \"hovertemplate\": \"ACTIVE=1,69,792<br>STATE/UTS=%{x}<br>TOTAL CASES=%{text}\", \"legendgroup\": \"ACTIVE=1,69,792\", \"marker\": {\"color\": \"#19d3f3\"}, \"name\": \"ACTIVE=1,69,792\", \"offsetgroup\": \"ACTIVE=1,69,792\", \"orientation\": \"v\", \"showlegend\": true, \"text\": [\"17,07,12,783\"], \"textposition\": \"auto\", \"type\": \"bar\", \"x\": [\"Uttar Pradesh\"], \"xaxis\": \"x\", \"y\": [\"17,07,12,783\"], \"yaxis\": \"y\"}, {\"alignmentgroup\": \"True\", \"hoverlabel\": {\"namelength\": 0}, \"hovertemplate\": \"ACTIVE=1,56,90,453<br>STATE/UTS=%{x}<br>TOTAL CASES=%{text}\", \"legendgroup\": \"ACTIVE=1,56,90,453\", \"marker\": {\"color\": \"#FF6692\"}, \"name\": \"ACTIVE=1,56,90,453\", \"offsetgroup\": \"ACTIVE=1,56,90,453\", \"orientation\": \"v\", \"showlegend\": true, \"text\": [\"1,51,02,08,990\"], \"textposition\": \"auto\", \"type\": \"bar\", \"x\": [\"West Bengal\"], \"xaxis\": \"x\", \"y\": [\"1,51,02,08,990\"], \"yaxis\": \"y\"}, {\"alignmentgroup\": \"True\", \"hoverlabel\": {\"namelength\": 0}, \"hovertemplate\": \"ACTIVE=79849<br>STATE/UTS=%{x}<br>TOTAL CASES=%{text}\", \"legendgroup\": \"ACTIVE=79849\", \"marker\": {\"color\": \"#B6E880\"}, \"name\": \"ACTIVE=79849\", \"offsetgroup\": \"ACTIVE=79849\", \"orientation\": \"v\", \"showlegend\": true, \"text\": [\"14,34,95,481\"], \"textposition\": \"auto\", \"type\": \"bar\", \"x\": [\"Delhi\"], \"xaxis\": \"x\", \"y\": [\"14,34,95,481\"], \"yaxis\": \"y\"}, {\"alignmentgroup\": \"True\", \"hoverlabel\": {\"namelength\": 0}, \"hovertemplate\": \"ACTIVE=4,99,379<br>STATE/UTS=%{x}<br>TOTAL CASES=%{text}\", \"legendgroup\": \"ACTIVE=4,99,379\", \"marker\": {\"color\": \"#FF97FF\"}, \"name\": \"ACTIVE=4,99,379\", \"offsetgroup\": \"ACTIVE=4,99,379\", \"orientation\": \"v\", \"showlegend\": true, \"text\": [\"99,74,26,391\"], \"textposition\": \"auto\", \"type\": \"bar\", \"x\": [\"Chhattisgarh\"], \"xaxis\": \"x\", \"y\": [\"99,74,26,391\"], \"yaxis\": \"y\"}, {\"alignmentgroup\": \"True\", \"hoverlabel\": {\"namelength\": 0}, \"hovertemplate\": \"ACTIVE=8159<br>STATE/UTS=%{x}<br>TOTAL CASES=%{text}\", \"legendgroup\": \"ACTIVE=8159\", \"marker\": {\"color\": \"#FECB52\"}, \"name\": \"ACTIVE=8159\", \"offsetgroup\": \"ACTIVE=8159\", \"orientation\": \"v\", \"showlegend\": true, \"text\": [\"9,53,01,862\"], \"textposition\": \"auto\", \"type\": \"bar\", \"x\": [\"Rajasthan\"], \"xaxis\": \"x\", \"y\": [\"9,53,01,862\"], \"yaxis\": \"y\"}],\n",
              "                        {\"barmode\": \"relative\", \"legend\": {\"tracegroupgap\": 0}, \"margin\": {\"t\": 60}, \"template\": {\"data\": {\"bar\": [{\"error_x\": {\"color\": \"#2a3f5f\"}, \"error_y\": {\"color\": \"#2a3f5f\"}, \"marker\": {\"line\": {\"color\": \"#E5ECF6\", \"width\": 0.5}}, \"type\": \"bar\"}], \"barpolar\": [{\"marker\": {\"line\": {\"color\": \"#E5ECF6\", \"width\": 0.5}}, \"type\": \"barpolar\"}], \"carpet\": [{\"aaxis\": {\"endlinecolor\": \"#2a3f5f\", \"gridcolor\": \"white\", \"linecolor\": \"white\", \"minorgridcolor\": \"white\", \"startlinecolor\": \"#2a3f5f\"}, \"baxis\": {\"endlinecolor\": \"#2a3f5f\", \"gridcolor\": \"white\", \"linecolor\": \"white\", \"minorgridcolor\": \"white\", \"startlinecolor\": \"#2a3f5f\"}, \"type\": \"carpet\"}], \"choropleth\": [{\"colorbar\": {\"outlinewidth\": 0, \"ticks\": \"\"}, \"type\": \"choropleth\"}], \"contour\": [{\"colorbar\": {\"outlinewidth\": 0, \"ticks\": \"\"}, \"colorscale\": [[0.0, \"#0d0887\"], [0.1111111111111111, \"#46039f\"], [0.2222222222222222, \"#7201a8\"], [0.3333333333333333, \"#9c179e\"], [0.4444444444444444, \"#bd3786\"], [0.5555555555555556, \"#d8576b\"], [0.6666666666666666, \"#ed7953\"], [0.7777777777777778, \"#fb9f3a\"], [0.8888888888888888, \"#fdca26\"], [1.0, \"#f0f921\"]], \"type\": \"contour\"}], \"contourcarpet\": [{\"colorbar\": {\"outlinewidth\": 0, \"ticks\": \"\"}, \"type\": \"contourcarpet\"}], \"heatmap\": [{\"colorbar\": {\"outlinewidth\": 0, \"ticks\": \"\"}, \"colorscale\": [[0.0, \"#0d0887\"], [0.1111111111111111, \"#46039f\"], [0.2222222222222222, \"#7201a8\"], [0.3333333333333333, \"#9c179e\"], [0.4444444444444444, \"#bd3786\"], [0.5555555555555556, \"#d8576b\"], [0.6666666666666666, \"#ed7953\"], [0.7777777777777778, \"#fb9f3a\"], [0.8888888888888888, \"#fdca26\"], [1.0, \"#f0f921\"]], \"type\": \"heatmap\"}], \"heatmapgl\": [{\"colorbar\": {\"outlinewidth\": 0, \"ticks\": \"\"}, \"colorscale\": [[0.0, \"#0d0887\"], [0.1111111111111111, \"#46039f\"], [0.2222222222222222, \"#7201a8\"], [0.3333333333333333, \"#9c179e\"], [0.4444444444444444, \"#bd3786\"], [0.5555555555555556, \"#d8576b\"], [0.6666666666666666, \"#ed7953\"], [0.7777777777777778, \"#fb9f3a\"], [0.8888888888888888, \"#fdca26\"], [1.0, \"#f0f921\"]], \"type\": \"heatmapgl\"}], \"histogram\": [{\"marker\": {\"colorbar\": {\"outlinewidth\": 0, \"ticks\": \"\"}}, \"type\": \"histogram\"}], \"histogram2d\": [{\"colorbar\": {\"outlinewidth\": 0, \"ticks\": \"\"}, \"colorscale\": [[0.0, \"#0d0887\"], [0.1111111111111111, \"#46039f\"], [0.2222222222222222, \"#7201a8\"], [0.3333333333333333, \"#9c179e\"], [0.4444444444444444, \"#bd3786\"], [0.5555555555555556, \"#d8576b\"], [0.6666666666666666, \"#ed7953\"], [0.7777777777777778, \"#fb9f3a\"], [0.8888888888888888, \"#fdca26\"], [1.0, \"#f0f921\"]], \"type\": \"histogram2d\"}], \"histogram2dcontour\": [{\"colorbar\": {\"outlinewidth\": 0, \"ticks\": \"\"}, \"colorscale\": [[0.0, \"#0d0887\"], [0.1111111111111111, \"#46039f\"], [0.2222222222222222, \"#7201a8\"], [0.3333333333333333, \"#9c179e\"], [0.4444444444444444, \"#bd3786\"], [0.5555555555555556, \"#d8576b\"], [0.6666666666666666, \"#ed7953\"], [0.7777777777777778, \"#fb9f3a\"], [0.8888888888888888, \"#fdca26\"], [1.0, \"#f0f921\"]], \"type\": \"histogram2dcontour\"}], \"mesh3d\": [{\"colorbar\": {\"outlinewidth\": 0, \"ticks\": \"\"}, \"type\": \"mesh3d\"}], \"parcoords\": [{\"line\": {\"colorbar\": {\"outlinewidth\": 0, \"ticks\": \"\"}}, \"type\": \"parcoords\"}], \"pie\": [{\"automargin\": true, \"type\": \"pie\"}], \"scatter\": [{\"marker\": {\"colorbar\": {\"outlinewidth\": 0, \"ticks\": \"\"}}, \"type\": \"scatter\"}], \"scatter3d\": [{\"line\": {\"colorbar\": {\"outlinewidth\": 0, \"ticks\": \"\"}}, \"marker\": {\"colorbar\": {\"outlinewidth\": 0, \"ticks\": \"\"}}, \"type\": \"scatter3d\"}], \"scattercarpet\": [{\"marker\": {\"colorbar\": {\"outlinewidth\": 0, \"ticks\": \"\"}}, \"type\": \"scattercarpet\"}], \"scattergeo\": [{\"marker\": {\"colorbar\": {\"outlinewidth\": 0, \"ticks\": \"\"}}, \"type\": \"scattergeo\"}], \"scattergl\": [{\"marker\": {\"colorbar\": {\"outlinewidth\": 0, \"ticks\": \"\"}}, \"type\": \"scattergl\"}], \"scattermapbox\": [{\"marker\": {\"colorbar\": {\"outlinewidth\": 0, \"ticks\": \"\"}}, \"type\": \"scattermapbox\"}], \"scatterpolar\": [{\"marker\": {\"colorbar\": {\"outlinewidth\": 0, \"ticks\": \"\"}}, \"type\": \"scatterpolar\"}], \"scatterpolargl\": [{\"marker\": {\"colorbar\": {\"outlinewidth\": 0, \"ticks\": \"\"}}, \"type\": \"scatterpolargl\"}], \"scatterternary\": [{\"marker\": {\"colorbar\": {\"outlinewidth\": 0, \"ticks\": \"\"}}, \"type\": \"scatterternary\"}], \"surface\": [{\"colorbar\": {\"outlinewidth\": 0, \"ticks\": \"\"}, \"colorscale\": [[0.0, \"#0d0887\"], [0.1111111111111111, \"#46039f\"], [0.2222222222222222, \"#7201a8\"], [0.3333333333333333, \"#9c179e\"], [0.4444444444444444, \"#bd3786\"], [0.5555555555555556, \"#d8576b\"], [0.6666666666666666, \"#ed7953\"], [0.7777777777777778, \"#fb9f3a\"], [0.8888888888888888, \"#fdca26\"], [1.0, \"#f0f921\"]], \"type\": \"surface\"}], \"table\": [{\"cells\": {\"fill\": {\"color\": \"#EBF0F8\"}, \"line\": {\"color\": \"white\"}}, \"header\": {\"fill\": {\"color\": \"#C8D4E3\"}, \"line\": {\"color\": \"white\"}}, \"type\": \"table\"}]}, \"layout\": {\"annotationdefaults\": {\"arrowcolor\": \"#2a3f5f\", \"arrowhead\": 0, \"arrowwidth\": 1}, \"coloraxis\": {\"colorbar\": {\"outlinewidth\": 0, \"ticks\": \"\"}}, \"colorscale\": {\"diverging\": [[0, \"#8e0152\"], [0.1, \"#c51b7d\"], [0.2, \"#de77ae\"], [0.3, \"#f1b6da\"], [0.4, \"#fde0ef\"], [0.5, \"#f7f7f7\"], [0.6, \"#e6f5d0\"], [0.7, \"#b8e186\"], [0.8, \"#7fbc41\"], [0.9, \"#4d9221\"], [1, \"#276419\"]], \"sequential\": [[0.0, \"#0d0887\"], [0.1111111111111111, \"#46039f\"], [0.2222222222222222, \"#7201a8\"], [0.3333333333333333, \"#9c179e\"], [0.4444444444444444, \"#bd3786\"], [0.5555555555555556, \"#d8576b\"], [0.6666666666666666, \"#ed7953\"], [0.7777777777777778, \"#fb9f3a\"], [0.8888888888888888, \"#fdca26\"], [1.0, \"#f0f921\"]], \"sequentialminus\": [[0.0, \"#0d0887\"], [0.1111111111111111, \"#46039f\"], [0.2222222222222222, \"#7201a8\"], [0.3333333333333333, \"#9c179e\"], [0.4444444444444444, \"#bd3786\"], [0.5555555555555556, \"#d8576b\"], [0.6666666666666666, \"#ed7953\"], [0.7777777777777778, \"#fb9f3a\"], [0.8888888888888888, \"#fdca26\"], [1.0, \"#f0f921\"]]}, \"colorway\": [\"#636efa\", \"#EF553B\", \"#00cc96\", \"#ab63fa\", \"#FFA15A\", \"#19d3f3\", \"#FF6692\", \"#B6E880\", \"#FF97FF\", \"#FECB52\"], \"font\": {\"color\": \"#2a3f5f\"}, \"geo\": {\"bgcolor\": \"white\", \"lakecolor\": \"white\", \"landcolor\": \"#E5ECF6\", \"showlakes\": true, \"showland\": true, \"subunitcolor\": \"white\"}, \"hoverlabel\": {\"align\": \"left\"}, \"hovermode\": \"closest\", \"mapbox\": {\"style\": \"light\"}, \"paper_bgcolor\": \"white\", \"plot_bgcolor\": \"#E5ECF6\", \"polar\": {\"angularaxis\": {\"gridcolor\": \"white\", \"linecolor\": \"white\", \"ticks\": \"\"}, \"bgcolor\": \"#E5ECF6\", \"radialaxis\": {\"gridcolor\": \"white\", \"linecolor\": \"white\", \"ticks\": \"\"}}, \"scene\": {\"xaxis\": {\"backgroundcolor\": \"#E5ECF6\", \"gridcolor\": \"white\", \"gridwidth\": 2, \"linecolor\": \"white\", \"showbackground\": true, \"ticks\": \"\", \"zerolinecolor\": \"white\"}, \"yaxis\": {\"backgroundcolor\": \"#E5ECF6\", \"gridcolor\": \"white\", \"gridwidth\": 2, \"linecolor\": \"white\", \"showbackground\": true, \"ticks\": \"\", \"zerolinecolor\": \"white\"}, \"zaxis\": {\"backgroundcolor\": \"#E5ECF6\", \"gridcolor\": \"white\", \"gridwidth\": 2, \"linecolor\": \"white\", \"showbackground\": true, \"ticks\": \"\", \"zerolinecolor\": \"white\"}}, \"shapedefaults\": {\"line\": {\"color\": \"#2a3f5f\"}}, \"ternary\": {\"aaxis\": {\"gridcolor\": \"white\", \"linecolor\": \"white\", \"ticks\": \"\"}, \"baxis\": {\"gridcolor\": \"white\", \"linecolor\": \"white\", \"ticks\": \"\"}, \"bgcolor\": \"#E5ECF6\", \"caxis\": {\"gridcolor\": \"white\", \"linecolor\": \"white\", \"ticks\": \"\"}}, \"title\": {\"x\": 0.05}, \"xaxis\": {\"automargin\": true, \"gridcolor\": \"white\", \"linecolor\": \"white\", \"ticks\": \"\", \"title\": {\"standoff\": 15}, \"zerolinecolor\": \"white\", \"zerolinewidth\": 2}, \"yaxis\": {\"automargin\": true, \"gridcolor\": \"white\", \"linecolor\": \"white\", \"ticks\": \"\", \"title\": {\"standoff\": 15}, \"zerolinecolor\": \"white\", \"zerolinewidth\": 2}}}, \"xaxis\": {\"anchor\": \"y\", \"domain\": [0.0, 1.0], \"tickangle\": -45, \"title\": {\"text\": \"STATE/UTS\"}}, \"yaxis\": {\"anchor\": \"x\", \"domain\": [0.0, 1.0], \"title\": {\"text\": \"TOTAL CASES\"}}},\n",
              "                        {\"responsive\": true}\n",
              "                    ).then(function(){\n",
              "                            \n",
              "var gd = document.getElementById('981d82a8-9d7d-43c8-a8b1-1b841bbe329e');\n",
              "var x = new MutationObserver(function (mutations, observer) {{\n",
              "        var display = window.getComputedStyle(gd).display;\n",
              "        if (!display || display === 'none') {{\n",
              "            console.log([gd, 'removed!']);\n",
              "            Plotly.purge(gd);\n",
              "            observer.disconnect();\n",
              "        }}\n",
              "}});\n",
              "\n",
              "// Listen for the removal of the full notebook cells\n",
              "var notebookContainer = gd.closest('#notebook-container');\n",
              "if (notebookContainer) {{\n",
              "    x.observe(notebookContainer, {childList: true});\n",
              "}}\n",
              "\n",
              "// Listen for the clearing of the current output cell\n",
              "var outputEl = gd.closest('.output');\n",
              "if (outputEl) {{\n",
              "    x.observe(outputEl, {childList: true});\n",
              "}}\n",
              "\n",
              "                        })\n",
              "                };\n",
              "                \n",
              "            </script>\n",
              "        </div>\n",
              "</body>\n",
              "</html>"
            ]
          },
          "metadata": {
            "tags": []
          }
        }
      ]
    },
    {
      "cell_type": "markdown",
      "metadata": {
        "id": "9C690BsTG7V0"
      },
      "source": [
        "**QUESTION 5**\n",
        "Plot a line chart with India's active covid-19 case recovery."
      ]
    },
    {
      "cell_type": "code",
      "metadata": {
        "id": "mBJ25SEf9yCm"
      },
      "source": [
        "import requests\n",
        "import json\n",
        "import pandas as pd\n",
        "districts_daily = requests.get('https://api.covid19india.org/data.json')\n",
        "\n",
        "districts_daily = districts_daily.text\n",
        "districts_daily = json.loads(districts_daily)\n",
        "totalactive = []\n",
        "totalrecovered = []\n",
        "date = []\n",
        "\n",
        "for data in districts_daily['cases_time_series']:\n",
        "    totalactive.append(data['totalconfirmed'])\n",
        "    totalrecovered.append(data['totalrecovered'])\n",
        "    date.append(data['date'])\n",
        "df = pd.DataFrame({'totalactive': totalactive, 'totalrecovered': totalrecovered, 'date': date})\n"
      ],
      "execution_count": null,
      "outputs": []
    },
    {
      "cell_type": "code",
      "metadata": {
        "colab": {
          "base_uri": "https://localhost:8080/",
          "height": 203
        },
        "id": "9lEq-QbPI-cU",
        "outputId": "4a379bc9-9894-4a0b-f10d-f2904c944afc"
      },
      "source": [
        "df.head()"
      ],
      "execution_count": null,
      "outputs": [
        {
          "output_type": "execute_result",
          "data": {
            "text/html": [
              "<div>\n",
              "<style scoped>\n",
              "    .dataframe tbody tr th:only-of-type {\n",
              "        vertical-align: middle;\n",
              "    }\n",
              "\n",
              "    .dataframe tbody tr th {\n",
              "        vertical-align: top;\n",
              "    }\n",
              "\n",
              "    .dataframe thead th {\n",
              "        text-align: right;\n",
              "    }\n",
              "</style>\n",
              "<table border=\"1\" class=\"dataframe\">\n",
              "  <thead>\n",
              "    <tr style=\"text-align: right;\">\n",
              "      <th></th>\n",
              "      <th>totalactive</th>\n",
              "      <th>totalrecovered</th>\n",
              "      <th>date</th>\n",
              "    </tr>\n",
              "  </thead>\n",
              "  <tbody>\n",
              "    <tr>\n",
              "      <th>0</th>\n",
              "      <td>1</td>\n",
              "      <td>0</td>\n",
              "      <td>30 January 2020</td>\n",
              "    </tr>\n",
              "    <tr>\n",
              "      <th>1</th>\n",
              "      <td>1</td>\n",
              "      <td>0</td>\n",
              "      <td>31 January 2020</td>\n",
              "    </tr>\n",
              "    <tr>\n",
              "      <th>2</th>\n",
              "      <td>1</td>\n",
              "      <td>0</td>\n",
              "      <td>1 February 2020</td>\n",
              "    </tr>\n",
              "    <tr>\n",
              "      <th>3</th>\n",
              "      <td>2</td>\n",
              "      <td>0</td>\n",
              "      <td>2 February 2020</td>\n",
              "    </tr>\n",
              "    <tr>\n",
              "      <th>4</th>\n",
              "      <td>3</td>\n",
              "      <td>0</td>\n",
              "      <td>3 February 2020</td>\n",
              "    </tr>\n",
              "  </tbody>\n",
              "</table>\n",
              "</div>"
            ],
            "text/plain": [
              "  totalactive totalrecovered             date\n",
              "0           1              0  30 January 2020\n",
              "1           1              0  31 January 2020\n",
              "2           1              0  1 February 2020\n",
              "3           2              0  2 February 2020\n",
              "4           3              0  3 February 2020"
            ]
          },
          "metadata": {
            "tags": []
          },
          "execution_count": 49
        }
      ]
    },
    {
      "cell_type": "code",
      "metadata": {
        "colab": {
          "base_uri": "https://localhost:8080/",
          "height": 542
        },
        "id": "-gVQBN9GJWVu",
        "outputId": "8a316d07-e574-4b79-c002-602b2b9d8412"
      },
      "source": [
        "fig = px.line(df, x=\"date\", y='totalrecovered', title='Coronavirus Cases Recovery in India',hover_data= [\"totalactive\"], template=\"simple_white\")\n",
        "fig.show()"
      ],
      "execution_count": null,
      "outputs": [
        {
          "output_type": "display_data",
          "data": {
            "text/html": [
              "<html>\n",
              "<head><meta charset=\"utf-8\" /></head>\n",
              "<body>\n",
              "    <div>\n",
              "            <script src=\"https://cdnjs.cloudflare.com/ajax/libs/mathjax/2.7.5/MathJax.js?config=TeX-AMS-MML_SVG\"></script><script type=\"text/javascript\">if (window.MathJax) {MathJax.Hub.Config({SVG: {font: \"STIX-Web\"}});}</script>\n",
              "                <script type=\"text/javascript\">window.PlotlyConfig = {MathJaxConfig: 'local'};</script>\n",
              "        <script src=\"https://cdn.plot.ly/plotly-latest.min.js\"></script>    \n",
              "            <div id=\"d502fd1e-eb8a-45bb-ab65-0e2eb4cab9f9\" class=\"plotly-graph-div\" style=\"height:525px; width:100%;\"></div>\n",
              "            <script type=\"text/javascript\">\n",
              "                \n",
              "                    window.PLOTLYENV=window.PLOTLYENV || {};\n",
              "                    \n",
              "                if (document.getElementById(\"d502fd1e-eb8a-45bb-ab65-0e2eb4cab9f9\")) {\n",
              "                    Plotly.newPlot(\n",
              "                        'd502fd1e-eb8a-45bb-ab65-0e2eb4cab9f9',\n",
              "                        [{\"customdata\": [[\"1\"], [\"1\"], [\"1\"], [\"2\"], [\"3\"], [\"3\"], [\"3\"], [\"3\"], [\"3\"], [\"3\"], [\"3\"], [\"3\"], [\"3\"], [\"3\"], [\"3\"], [\"3\"], [\"3\"], [\"3\"], [\"3\"], [\"3\"], [\"3\"], [\"3\"], [\"3\"], [\"3\"], [\"3\"], [\"3\"], [\"3\"], [\"3\"], [\"3\"], [\"3\"], [\"3\"], [\"3\"], [\"5\"], [\"6\"], [\"28\"], [\"30\"], [\"31\"], [\"34\"], [\"39\"], [\"48\"], [\"63\"], [\"71\"], [\"81\"], [\"91\"], [\"102\"], [\"112\"], [\"126\"], [\"146\"], [\"171\"], [\"198\"], [\"256\"], [\"334\"], [\"403\"], [\"497\"], [\"571\"], [\"657\"], [\"730\"], [\"883\"], [\"1019\"], [\"1139\"], [\"1326\"], [\"1635\"], [\"2059\"], [\"2545\"], [\"3105\"], [\"3684\"], [\"4293\"], [\"4777\"], [\"5350\"], [\"5915\"], [\"6728\"], [\"7599\"], [\"8453\"], [\"9211\"], [\"10454\"], [\"11485\"], [\"12371\"], [\"13432\"], [\"14354\"], [\"15725\"], [\"17305\"], [\"18544\"], [\"20081\"], [\"21373\"], [\"23040\"], [\"24448\"], [\"26283\"], [\"27890\"], [\"29458\"], [\"31360\"], [\"33065\"], [\"34866\"], [\"37262\"], [\"39826\"], [\"42778\"], [\"46434\"], [\"49405\"], [\"53007\"], [\"56351\"], [\"59690\"], [\"62865\"], [\"67176\"], [\"70768\"], [\"74330\"], [\"78056\"], [\"82047\"], [\"85855\"], [\"90649\"], [\"95698\"], [\"100326\"], [\"106480\"], [\"112200\"], [\"118223\"], [\"124759\"], [\"131424\"], [\"138537\"], [\"144951\"], [\"150858\"], [\"158104\"], [\"165358\"], [\"173496\"], [\"181860\"], [\"190649\"], [\"198372\"], [\"207187\"], [\"216876\"], [\"226723\"], [\"236195\"], [\"246603\"], [\"257485\"], [\"266021\"], [\"276002\"], [\"287158\"], [\"298293\"], [\"309599\"], [\"321638\"], [\"333043\"], [\"343075\"], [\"354161\"], [\"367269\"], [\"381098\"], [\"395838\"], [\"411753\"], [\"426904\"], [\"440464\"], [\"456120\"], [\"472988\"], [\"491193\"], [\"509448\"], [\"529590\"], [\"549200\"], [\"567539\"], [\"585795\"], [\"605224\"], [\"627171\"], [\"649889\"], [\"673907\"], [\"697849\"], [\"720349\"], [\"743496\"], [\"769057\"], [\"794847\"], [\"822609\"], [\"850366\"], [\"879472\"], [\"907650\"], [\"937567\"], [\"970174\"], [\"1005642\"], [\"1040462\"], [\"1077873\"], [\"1118108\"], [\"1154914\"], [\"1194084\"], [\"1239685\"], [\"1288128\"], [\"1337016\"], [\"1387088\"], [\"1436020\"], [\"1482504\"], [\"1532135\"], [\"1584614\"], [\"1639582\"], [\"1697068\"], [\"1752185\"], [\"1804857\"], [\"1855345\"], [\"1906627\"], [\"1963253\"], [\"2025423\"], [\"2086878\"], [\"2152034\"], [\"2214151\"], [\"2267167\"], [\"2328419\"], [\"2395485\"], [\"2459626\"], [\"2525236\"], [\"2589222\"], [\"2647318\"], [\"2701616\"], [\"2766640\"], [\"2835836\"], [\"2904354\"], [\"2973383\"], [\"3043450\"], [\"3105199\"], [\"3164895\"], [\"3231768\"], [\"3307763\"], [\"3384590\"], [\"3461247\"], [\"3539726\"], [\"3619187\"], [\"3687953\"], [\"3766121\"], [\"3848981\"], [\"3933137\"], [\"4020252\"], [\"4110852\"], [\"4202577\"], [\"4277592\"], [\"4367447\"], [\"4462983\"], [\"4559745\"], [\"4657400\"], [\"4751814\"], [\"4845034\"], [\"4926947\"], [\"5018045\"], [\"5115905\"], [\"5212692\"], [\"5305665\"], [\"5398239\"], [\"5485634\"], [\"5560127\"], [\"5643489\"], [\"5730192\"], [\"5816113\"], [\"5901830\"], [\"5990589\"], [\"6073359\"], [\"6143028\"], [\"6223528\"], [\"6310276\"], [\"6392060\"], [\"6471943\"], [\"6547422\"], [\"6622192\"], [\"6682322\"], [\"6754191\"], [\"6833000\"], [\"6903797\"], [\"6977102\"], [\"7051520\"], [\"7119309\"], [\"7173571\"], [\"7237288\"], [\"7305099\"], [\"7368540\"], [\"7430844\"], [\"7492737\"], [\"7549256\"], [\"7594762\"], [\"7649110\"], [\"7705374\"], [\"7759745\"], [\"7813676\"], [\"7864042\"], [\"7909964\"], [\"7945983\"], [\"7989019\"], [\"8039207\"], [\"8087972\"], [\"8136089\"], [\"8183317\"], [\"8229245\"], [\"8266837\"], [\"8312864\"], [\"8363329\"], [\"8410957\"], [\"8460974\"], [\"8507127\"], [\"8553834\"], [\"8590953\"], [\"8635677\"], [\"8683962\"], [\"8728547\"], [\"8773167\"], [\"8814859\"], [\"8845540\"], [\"8874149\"], [\"8912697\"], [\"8958063\"], [\"9004248\"], [\"9050531\"], [\"9095832\"], [\"9140236\"], [\"9177677\"], [\"9221922\"], [\"9266621\"], [\"9309795\"], [\"9351148\"], [\"9392963\"], [\"9431999\"], [\"9463178\"], [\"9499652\"], [\"9535158\"], [\"9571732\"], [\"9608443\"], [\"9644453\"], [\"9677631\"], [\"9703858\"], [\"9735941\"], [\"9767578\"], [\"9796989\"], [\"9826950\"], [\"9857304\"], [\"9884640\"], [\"9906581\"], [\"9932832\"], [\"9951004\"], [\"9977758\"], [\"10004749\"], [\"10031583\"], [\"10056205\"], [\"10075352\"], [\"10099232\"], [\"10123948\"], [\"10147392\"], [\"10169741\"], [\"10188316\"], [\"10208649\"], [\"10224721\"], [\"10245263\"], [\"10267208\"], [\"10286234\"], [\"10306393\"], [\"10324537\"], [\"10341215\"], [\"10357493\"], [\"10375402\"], [\"10395874\"], [\"10413997\"], [\"10432450\"], [\"10451270\"], [\"10467356\"], [\"10479837\"], [\"10495740\"], [\"10512755\"], [\"10528432\"], [\"10543587\"], [\"10558637\"], [\"10572599\"], [\"10582586\"], [\"10596373\"], [\"10611652\"], [\"10626147\"], [\"10640470\"], [\"10655366\"], [\"10668598\"], [\"10677696\"], [\"10690429\"], [\"10701985\"], [\"10720897\"], [\"10733951\"], [\"10747024\"], [\"10758551\"], [\"10767130\"], [\"10778131\"], [\"10791056\"], [\"10803457\"], [\"10815168\"], [\"10827237\"], [\"10839023\"], [\"10847738\"], [\"10858469\"], [\"10871008\"], [\"10880361\"], [\"10892498\"], [\"10904696\"], [\"10916402\"], [\"10925488\"], [\"10937080\"], [\"10949942\"], [\"10963179\"], [\"10977095\"], [\"10991014\"], [\"11005292\"], [\"11015786\"], [\"11029468\"], [\"11046398\"], [\"11062997\"], [\"11079559\"], [\"11096364\"], [\"11111978\"], [\"11124248\"], [\"11139246\"], [\"11156671\"], [\"11173495\"], [\"11191819\"], [\"11210543\"], [\"11229193\"], [\"11244546\"], [\"11262419\"], [\"11285270\"], [\"11308568\"], [\"11333413\"], [\"11358567\"], [\"11385080\"], [\"11409517\"], [\"11438386\"], [\"11474224\"], [\"11513911\"], [\"11554817\"], [\"11598632\"], [\"11645641\"], [\"11686277\"], [\"11733516\"], [\"11786935\"], [\"11846018\"], [\"11908294\"], [\"11970926\"], [\"12039132\"], [\"12095284\"], [\"12148521\"], [\"12220634\"], [\"12302032\"], [\"12391055\"], [\"12484049\"], [\"12587843\"], [\"12684406\"], [\"12799718\"], [\"12925994\"], [\"13057872\"], [\"13202817\"], [\"13355382\"], [\"13525296\"], [\"13686134\"], [\"13871431\"], [\"14071015\"], [\"14287843\"], [\"14521845\"], [\"14782740\"], [\"15057803\"], [\"15314806\"], [\"15609171\"], [\"15924923\"], [\"16257454\"], [\"16602750\"], [\"16951746\"], [\"17306404\"], [\"17625875\"], [\"17988788\"], [\"18368192\"], [\"18754965\"], [\"19156979\"], [\"19549555\"], [\"19919645\"], [\"20275414\"], [\"20658261\"], [\"21070885\"], [\"21485165\"], [\"21892066\"], [\"22295874\"], [\"22662329\"], [\"22991820\"], [\"23340375\"], [\"23703007\"], [\"24046012\"], [\"24372268\"], [\"24683025\"], [\"24964862\"], [\"25227883\"], [\"25495129\"], [\"25771316\"], [\"26030558\"], [\"26287857\"], [\"26528754\"], [\"26751588\"], [\"26947445\"], [\"27156437\"], [\"27367947\"], [\"27554022\"], [\"27728105\"], [\"27893387\"], [\"28046783\"], [\"28173666\"], [\"28306818\"], [\"28440862\"], [\"28573286\"], [\"28693740\"], [\"28808228\"], [\"28909437\"], [\"28995241\"], [\"29088028\"], [\"29181911\"], [\"29273760\"], [\"29358334\"], [\"29438859\"], [\"29509860\"], [\"29569868\"], [\"29632083\"], [\"29699372\"], [\"29761808\"], [\"29822573\"], [\"29881188\"], [\"29934166\"], [\"29976849\"], [\"30027666\"], [\"30081975\"], [\"30133634\"], [\"30182402\"], [\"30232246\"], [\"30278769\"], [\"30315839\"], [\"30361943\"], [\"30410549\"], [\"30457330\"], [\"30501517\"], [\"30544544\"], [\"30584694\"], [\"30618720\"], [\"30662684\"], [\"30708385\"], [\"30751889\"], [\"30794549\"]], \"hoverlabel\": {\"namelength\": 0}, \"hovertemplate\": \"date=%{x}<br>totalrecovered=%{y}<br>totalactive=%{customdata[0]}\", \"legendgroup\": \"\", \"line\": {\"color\": \"#1F77B4\", \"dash\": \"solid\"}, \"mode\": \"lines\", \"name\": \"\", \"showlegend\": false, \"type\": \"scatter\", \"x\": [\"30 January 2020\", \"31 January 2020\", \"1 February 2020\", \"2 February 2020\", \"3 February 2020\", \"4 February 2020\", \"5 February 2020\", \"6 February 2020\", \"7 February 2020\", \"8 February 2020\", \"9 February 2020\", \"10 February 2020\", \"11 February 2020\", \"12 February 2020\", \"13 February 2020\", \"14 February 2020\", \"15 February 2020\", \"16 February 2020\", \"17 February 2020\", \"18 February 2020\", \"19 February 2020\", \"20 February 2020\", \"21 February 2020\", \"22 February 2020\", \"23 February 2020\", \"24 February 2020\", \"25 February 2020\", \"26 February 2020\", \"27 February 2020\", \"28 February 2020\", \"29 February 2020\", \"1 March 2020\", \"2 March 2020\", \"3 March 2020\", \"4 March 2020\", \"5 March 2020\", \"6 March 2020\", \"7 March 2020\", \"8 March 2020\", \"9 March 2020\", \"10 March 2020\", \"11 March 2020\", \"12 March 2020\", \"13 March 2020\", \"14 March 2020\", \"15 March 2020\", \"16 March 2020\", \"17 March 2020\", \"18 March 2020\", \"19 March 2020\", \"20 March 2020\", \"21 March 2020\", \"22 March 2020\", \"23 March 2020\", \"24 March 2020\", \"25 March 2020\", \"26 March 2020\", \"27 March 2020\", \"28 March 2020\", \"29 March 2020\", \"30 March 2020\", \"31 March 2020\", \"1 April 2020\", \"2 April 2020\", \"3 April 2020\", \"4 April 2020\", \"5 April 2020\", \"6 April 2020\", \"7 April 2020\", \"8 April 2020\", \"9 April 2020\", \"10 April 2020\", \"11 April 2020\", \"12 April 2020\", \"13 April 2020\", \"14 April 2020\", \"15 April 2020\", \"16 April 2020\", \"17 April 2020\", \"18 April 2020\", \"19 April 2020\", \"20 April 2020\", \"21 April 2020\", \"22 April 2020\", \"23 April 2020\", \"24 April 2020\", \"25 April 2020\", \"26 April 2020\", \"27 April 2020\", \"28 April 2020\", \"29 April 2020\", \"30 April 2020\", \"1 May 2020\", \"2 May 2020\", \"3 May 2020\", \"4 May 2020\", \"5 May 2020\", \"6 May 2020\", \"7 May 2020\", \"8 May 2020\", \"9 May 2020\", \"10 May 2020\", \"11 May 2020\", \"12 May 2020\", \"13 May 2020\", \"14 May 2020\", \"15 May 2020\", \"16 May 2020\", \"17 May 2020\", \"18 May 2020\", \"19 May 2020\", \"20 May 2020\", \"21 May 2020\", \"22 May 2020\", \"23 May 2020\", \"24 May 2020\", \"25 May 2020\", \"26 May 2020\", \"27 May 2020\", \"28 May 2020\", \"29 May 2020\", \"30 May 2020\", \"31 May 2020\", \"1 June 2020\", \"2 June 2020\", \"3 June 2020\", \"4 June 2020\", \"5 June 2020\", \"6 June 2020\", \"7 June 2020\", \"8 June 2020\", \"9 June 2020\", \"10 June 2020\", \"11 June 2020\", \"12 June 2020\", \"13 June 2020\", \"14 June 2020\", \"15 June 2020\", \"16 June 2020\", \"17 June 2020\", \"18 June 2020\", \"19 June 2020\", \"20 June 2020\", \"21 June 2020\", \"22 June 2020\", \"23 June 2020\", \"24 June 2020\", \"25 June 2020\", \"26 June 2020\", \"27 June 2020\", \"28 June 2020\", \"29 June 2020\", \"30 June 2020\", \"1 July 2020\", \"2 July 2020\", \"3 July 2020\", \"4 July 2020\", \"5 July 2020\", \"6 July 2020\", \"7 July 2020\", \"8 July 2020\", \"9 July 2020\", \"10 July 2020\", \"11 July 2020\", \"12 July 2020\", \"13 July 2020\", \"14 July 2020\", \"15 July 2020\", \"16 July 2020\", \"17 July 2020\", \"18 July 2020\", \"19 July 2020\", \"20 July 2020\", \"21 July 2020\", \"22 July 2020\", \"23 July 2020\", \"24 July 2020\", \"25 July 2020\", \"26 July 2020\", \"27 July 2020\", \"28 July 2020\", \"29 July 2020\", \"30 July 2020\", \"31 July 2020\", \"1 August 2020\", \"2 August 2020\", \"3 August 2020\", \"4 August 2020\", \"5 August 2020\", \"6 August 2020\", \"7 August 2020\", \"8 August 2020\", \"9 August 2020\", \"10 August 2020\", \"11 August 2020\", \"12 August 2020\", \"13 August 2020\", \"14 August 2020\", \"15 August 2020\", \"16 August 2020\", \"17 August 2020\", \"18 August 2020\", \"19 August 2020\", \"20 August 2020\", \"21 August 2020\", \"22 August 2020\", \"23 August 2020\", \"24 August 2020\", \"25 August 2020\", \"26 August 2020\", \"27 August 2020\", \"28 August 2020\", \"29 August 2020\", \"30 August 2020\", \"31 August 2020\", \"1 September 2020\", \"2 September 2020\", \"3 September 2020\", \"4 September 2020\", \"5 September 2020\", \"6 September 2020\", \"7 September 2020\", \"8 September 2020\", \"9 September 2020\", \"10 September 2020\", \"11 September 2020\", \"12 September 2020\", \"13 September 2020\", \"14 September 2020\", \"15 September 2020\", \"16 September 2020\", \"17 September 2020\", \"18 September 2020\", \"19 September 2020\", \"20 September 2020\", \"21 September 2020\", \"22 September 2020\", \"23 September 2020\", \"24 September 2020\", \"25 September 2020\", \"26 September 2020\", \"27 September 2020\", \"28 September 2020\", \"29 September 2020\", \"30 September 2020\", \"1 October 2020\", \"2 October 2020\", \"3 October 2020\", \"4 October 2020\", \"5 October 2020\", \"6 October 2020\", \"7 October 2020\", \"8 October 2020\", \"9 October 2020\", \"10 October 2020\", \"11 October 2020\", \"12 October 2020\", \"13 October 2020\", \"14 October 2020\", \"15 October 2020\", \"16 October 2020\", \"17 October 2020\", \"18 October 2020\", \"19 October 2020\", \"20 October 2020\", \"21 October 2020\", \"22 October 2020\", \"23 October 2020\", \"24 October 2020\", \"25 October 2020\", \"26 October 2020\", \"27 October 2020\", \"28 October 2020\", \"29 October 2020\", \"30 October 2020\", \"31 October 2020\", \"1 November 2020\", \"2 November 2020\", \"3 November 2020\", \"4 November 2020\", \"5 November 2020\", \"6 November 2020\", \"7 November 2020\", \"8 November 2020\", \"9 November 2020\", \"10 November 2020\", \"11 November 2020\", \"12 November 2020\", \"13 November 2020\", \"14 November 2020\", \"15 November 2020\", \"16 November 2020\", \"17 November 2020\", \"18 November 2020\", \"19 November 2020\", \"20 November 2020\", \"21 November 2020\", \"22 November 2020\", \"23 November 2020\", \"24 November 2020\", \"25 November 2020\", \"26 November 2020\", \"27 November 2020\", \"28 November 2020\", \"29 November 2020\", \"30 November 2020\", \"1 December 2020\", \"2 December 2020\", \"3 December 2020\", \"4 December 2020\", \"5 December 2020\", \"6 December 2020\", \"7 December 2020\", \"8 December 2020\", \"9 December 2020\", \"10 December 2020\", \"11 December 2020\", \"12 December 2020\", \"13 December 2020\", \"14 December 2020\", \"15 December 2020\", \"16 December 2020\", \"17 December 2020\", \"18 December 2020\", \"19 December 2020\", \"20 December 2020\", \"21 December 2020\", \"22 December 2020\", \"23 December 2020\", \"24 December 2020\", \"25 December 2020\", \"26 December 2020\", \"27 December 2020\", \"28 December 2020\", \"29 December 2020\", \"30 December 2020\", \"31 December 2020\", \"1 January 2021\", \"2 January 2021\", \"3 January 2021\", \"4 January 2021\", \"5 January 2021\", \"6 January 2021\", \"7 January 2021\", \"8 January 2021\", \"9 January 2021\", \"10 January 2021\", \"11 January 2021\", \"12 January 2021\", \"13 January 2021\", \"14 January 2021\", \"15 January 2021\", \"16 January 2021\", \"17 January 2021\", \"18 January 2021\", \"19 January 2021\", \"20 January 2021\", \"21 January 2021\", \"22 January 2021\", \"23 January 2021\", \"24 January 2021\", \"25 January 2021\", \"26 January 2021\", \"27 January 2021\", \"28 January 2021\", \"29 January 2021\", \"30 January 2021\", \"31 January 2021\", \"1 February 2021\", \"2 February 2021\", \"3 February 2021\", \"4 February 2021\", \"5 February 2021\", \"6 February 2021\", \"7 February 2021\", \"8 February 2021\", \"9 February 2021\", \"10 February 2021\", \"11 February 2021\", \"12 February 2021\", \"13 February 2021\", \"14 February 2021\", \"15 February 2021\", \"16 February 2021\", \"17 February 2021\", \"18 February 2021\", \"19 February 2021\", \"20 February 2021\", \"21 February 2021\", \"22 February 2021\", \"23 February 2021\", \"24 February 2021\", \"25 February 2021\", \"26 February 2021\", \"27 February 2021\", \"28 February 2021\", \"1 March 2021\", \"2 March 2021\", \"3 March 2021\", \"4 March 2021\", \"5 March 2021\", \"6 March 2021\", \"7 March 2021\", \"8 March 2021\", \"9 March 2021\", \"10 March 2021\", \"11 March 2021\", \"12 March 2021\", \"13 March 2021\", \"14 March 2021\", \"15 March 2021\", \"16 March 2021\", \"17 March 2021\", \"18 March 2021\", \"19 March 2021\", \"20 March 2021\", \"21 March 2021\", \"22 March 2021\", \"23 March 2021\", \"24 March 2021\", \"25 March 2021\", \"26 March 2021\", \"27 March 2021\", \"28 March 2021\", \"29 March 2021\", \"30 March 2021\", \"31 March 2021\", \"1 April 2021\", \"2 April 2021\", \"3 April 2021\", \"4 April 2021\", \"5 April 2021\", \"6 April 2021\", \"7 April 2021\", \"8 April 2021\", \"9 April 2021\", \"10 April 2021\", \"11 April 2021\", \"12 April 2021\", \"13 April 2021\", \"14 April 2021\", \"15 April 2021\", \"16 April 2021\", \"17 April 2021\", \"18 April 2021\", \"19 April 2021\", \"20 April 2021\", \"21 April 2021\", \"22 April 2021\", \"23 April 2021\", \"24 April 2021\", \"25 April 2021\", \"26 April 2021\", \"27 April 2021\", \"28 April 2021\", \"29 April 2021\", \"30 April 2021\", \"1 May 2021\", \"2 May 2021\", \"3 May 2021\", \"4 May 2021\", \"5 May 2021\", \"6 May 2021\", \"7 May 2021\", \"8 May 2021\", \"9 May 2021\", \"10 May 2021\", \"11 May 2021\", \"12 May 2021\", \"13 May 2021\", \"14 May 2021\", \"15 May 2021\", \"16 May 2021\", \"17 May 2021\", \"18 May 2021\", \"19 May 2021\", \"20 May 2021\", \"21 May 2021\", \"22 May 2021\", \"23 May 2021\", \"24 May 2021\", \"25 May 2021\", \"26 May 2021\", \"27 May 2021\", \"28 May 2021\", \"29 May 2021\", \"30 May 2021\", \"31 May 2021\", \"1 June 2021\", \"2 June 2021\", \"3 June 2021\", \"4 June 2021\", \"5 June 2021\", \"6 June 2021\", \"7 June 2021\", \"8 June 2021\", \"9 June 2021\", \"10 June 2021\", \"11 June 2021\", \"12 June 2021\", \"13 June 2021\", \"14 June 2021\", \"15 June 2021\", \"16 June 2021\", \"17 June 2021\", \"18 June 2021\", \"19 June 2021\", \"20 June 2021\", \"21 June 2021\", \"22 June 2021\", \"23 June 2021\", \"24 June 2021\", \"25 June 2021\", \"26 June 2021\", \"27 June 2021\", \"28 June 2021\", \"29 June 2021\", \"30 June 2021\", \"1 July 2021\", \"2 July 2021\", \"3 July 2021\", \"4 July 2021\", \"5 July 2021\", \"6 July 2021\", \"7 July 2021\", \"8 July 2021\", \"9 July 2021\"], \"xaxis\": \"x\", \"y\": [\"0\", \"0\", \"0\", \"0\", \"0\", \"0\", \"0\", \"0\", \"0\", \"0\", \"0\", \"0\", \"0\", \"0\", \"1\", \"1\", \"1\", \"2\", \"2\", \"2\", \"2\", \"3\", \"3\", \"3\", \"3\", \"3\", \"3\", \"3\", \"3\", \"3\", \"3\", \"3\", \"3\", \"3\", \"3\", \"3\", \"3\", \"3\", \"3\", \"3\", \"4\", \"4\", \"4\", \"10\", \"10\", \"13\", \"14\", \"15\", \"15\", \"20\", \"23\", \"23\", \"23\", \"25\", \"40\", \"43\", \"50\", \"75\", \"85\", \"102\", \"137\", \"150\", \"169\", \"191\", \"230\", \"286\", \"329\", \"394\", \"469\", \"565\", \"635\", \"786\", \"972\", \"1086\", \"1198\", \"1365\", \"1509\", \"1767\", \"2040\", \"2466\", \"2854\", \"3273\", \"3976\", \"4370\", \"5012\", \"5496\", \"5938\", \"6523\", \"7103\", \"7739\", \"8429\", \"9059\", \"10021\", \"10852\", \"11763\", \"12845\", \"14140\", \"15301\", \"16776\", \"17887\", \"19301\", \"20970\", \"22549\", \"24454\", \"26417\", \"28011\", \"30245\", \"34257\", \"36795\", \"39277\", \"42309\", \"45422\", \"48553\", \"51833\", \"54409\", \"57694\", \"60706\", \"64291\", \"67725\", \"70896\", \"82631\", \"86934\", \"91862\", \"95744\", \"100275\", \"104064\", \"108454\", \"113224\", \"118657\", \"123848\", \"129019\", \"134653\", \"140928\", \"146972\", \"154235\", \"162327\", \"169685\", \"180324\", \"187550\", \"194440\", \"205181\", \"214210\", \"228184\", \"237259\", \"248138\", \"258600\", \"271689\", \"285672\", \"295918\", \"310147\", \"321778\", \"335275\", \"347840\", \"359904\", \"379903\", \"394320\", \"409066\", \"424895\", \"440210\", \"457046\", \"476554\", \"495962\", \"516251\", \"536232\", \"554430\", \"572113\", \"593090\", \"613736\", \"636603\", \"654079\", \"677662\", \"700392\", \"724695\", \"752284\", \"784159\", \"817485\", \"849999\", \"887124\", \"918636\", \"952990\", \"988673\", \"1021559\", \"1058984\", \"1095538\", \"1146906\", \"1187261\", \"1230331\", \"1281551\", \"1327134\", \"1377275\", \"1427662\", \"1479797\", \"1534271\", \"1581633\", \"1638094\", \"1695853\", \"1750629\", \"1807549\", \"1860665\", \"1918069\", \"1976241\", \"2036696\", \"2096061\", \"2157934\", \"2220792\", \"2279893\", \"2336789\", \"2403094\", \"2467245\", \"2523436\", \"2583056\", \"2647531\", \"2712513\", \"2772935\", \"2837370\", \"2899515\", \"2967389\", \"3034880\", \"3104505\", \"3177666\", \"3247296\", \"3321412\", \"3396020\", \"3469082\", \"3539986\", \"3621442\", \"3699304\", \"3777052\", \"3856265\", \"3939114\", \"4022038\", \"4109826\", \"4205341\", \"4299730\", \"4392656\", \"4494726\", \"4584383\", \"4671842\", \"4752984\", \"4846315\", \"4938680\", \"5013371\", \"5098569\", \"5184719\", \"5269993\", \"5348724\", \"5425063\", \"5506718\", \"5583431\", \"5659286\", \"5741231\", \"5824440\", \"5903185\", \"5985813\", \"6074837\", \"6146402\", \"6224767\", \"6298846\", \"6380428\", \"6451220\", \"6521788\", \"6594371\", \"6660789\", \"6730589\", \"6792417\", \"6871978\", \"6946547\", \"7013541\", \"7075811\", \"7135115\", \"7198849\", \"7257278\", \"7313872\", \"7371739\", \"7430744\", \"7489426\", \"7542738\", \"7601262\", \"7654590\", \"7710463\", \"7764596\", \"7818542\", \"7867124\", \"7915589\", \"7957038\", \"8011677\", \"8064381\", \"8113735\", \"8161355\", \"8203672\", \"8247783\", \"8288175\", \"8332928\", \"8381603\", \"8426849\", \"8475817\", \"8519872\", \"8561277\", \"8603472\", \"8641237\", \"8677819\", \"8717542\", \"8758719\", \"8800994\", \"8846146\", \"8888428\", \"8931636\", \"8972544\", \"9015535\", \"9057894\", \"9099779\", \"9138857\", \"9178150\", \"9214733\", \"9252426\", \"9290133\", \"9323625\", \"9356712\", \"9387352\", \"9421773\", \"9455626\", \"9488986\", \"9519877\", \"9549756\", \"9579514\", \"9605248\", \"9635498\", \"9662530\", \"9692476\", \"9717031\", \"9739215\", \"9760681\", \"9781778\", \"9806600\", \"9833189\", \"9859596\", \"9881565\", \"9905403\", \"9926306\", \"9945964\", \"9975173\", \"9996334\", \"10016023\", \"10036526\", \"10055768\", \"10075228\", \"10091965\", \"10110543\", \"10128305\", \"10146102\", \"10162045\", \"10178854\", \"10196056\", \"10210569\", \"10227696\", \"10244925\", \"10264996\", \"10282730\", \"10299896\", \"10315929\", \"10329077\", \"10345169\", \"10358419\", \"10372680\", \"10392995\", \"10407881\", \"10421958\", \"10433840\", \"10447283\", \"10461533\", \"10479346\", \"10495134\", \"10509646\", \"10521407\", \"10533163\", \"10546763\", \"10559691\", \"10571487\", \"10587209\", \"10598567\", \"10609674\", \"10619174\", \"10630967\", \"10642803\", \"10654831\", \"10665745\", \"10675959\", \"10687372\", \"10697087\", \"10710320\", \"10724289\", \"10736389\", \"10748611\", \"10761401\", \"10773110\", \"10784401\", \"10796873\", \"10809986\", \"10824057\", \"10837845\", \"10852031\", \"10866410\", \"10880713\", \"10897319\", \"10917962\", \"10936116\", \"10951208\", \"10971180\", \"10987688\", \"11005278\", \"11025464\", \"11043210\", \"11061003\", \"11081359\", \"11104982\", \"11127953\", \"11149158\", \"11178937\", \"11202850\", \"11229425\", \"11262342\", \"11292683\", \"11321411\", \"11353680\", \"11390669\", \"11431911\", \"11472334\", \"11522718\", \"11566897\", \"11626956\", \"11679796\", \"11729896\", \"11789610\", \"11848747\", \"11910576\", \"11987839\", \"12078167\", \"12153547\", \"12250293\", \"12332564\", \"12425989\", \"12543886\", \"12666772\", \"12804981\", \"12948820\", \"13103177\", \"13269833\", \"13449267\", \"13641584\", \"13862129\", \"14077938\", \"14296564\", \"14545573\", \"14807922\", \"15082093\", \"15373820\", \"15673018\", \"15981706\", \"16281710\", \"16600620\", \"16938319\", \"17269037\", \"17597386\", \"17925061\", \"18311456\", \"18665233\", \"19021163\", \"19376561\", \"19728566\", \"20073242\", \"20426442\", \"20788989\", \"21167515\", \"21589906\", \"21979664\", \"22348669\", \"22705842\", \"23063467\", \"23418605\", \"23720858\", \"24047595\", \"24342859\", \"24625913\", \"24896915\", \"25182247\", \"25446730\", \"25684394\", \"25939519\", \"26170916\", \"26382806\", \"26589528\", \"26787291\", \"26976665\", \"27150821\", \"27333687\", \"27496043\", \"27645065\", \"27780394\", \"27903079\", \"28035743\", \"28155317\", \"28272693\", \"28380469\", \"28484369\", \"28572869\", \"28670723\", \"28758331\", \"28836520\", \"28918551\", \"28987248\", \"29056435\", \"29120804\", \"29185623\", \"29243489\", \"29302052\", \"29359068\", \"29419857\", \"29481670\", \"29540724\", \"29598221\", \"29650491\", \"29692833\", \"29744766\", \"29791820\", \"29836349\", \"29880553\", \"29925844\"], \"yaxis\": \"y\"}],\n",
              "                        {\"legend\": {\"tracegroupgap\": 0}, \"template\": {\"data\": {\"bar\": [{\"error_x\": {\"color\": \"rgb(36,36,36)\"}, \"error_y\": {\"color\": \"rgb(36,36,36)\"}, \"marker\": {\"line\": {\"color\": \"white\", \"width\": 0.5}}, \"type\": \"bar\"}], \"barpolar\": [{\"marker\": {\"line\": {\"color\": \"white\", \"width\": 0.5}}, \"type\": \"barpolar\"}], \"carpet\": [{\"aaxis\": {\"endlinecolor\": \"rgb(36,36,36)\", \"gridcolor\": \"white\", \"linecolor\": \"white\", \"minorgridcolor\": \"white\", \"startlinecolor\": \"rgb(36,36,36)\"}, \"baxis\": {\"endlinecolor\": \"rgb(36,36,36)\", \"gridcolor\": \"white\", \"linecolor\": \"white\", \"minorgridcolor\": \"white\", \"startlinecolor\": \"rgb(36,36,36)\"}, \"type\": \"carpet\"}], \"choropleth\": [{\"colorbar\": {\"outlinewidth\": 10, \"tickcolor\": \"rgb(36,36,36)\", \"ticklen\": 8, \"ticks\": \"outside\", \"tickwidth\": 2}, \"type\": \"choropleth\"}], \"contour\": [{\"colorbar\": {\"outlinewidth\": 10, \"tickcolor\": \"rgb(36,36,36)\", \"ticklen\": 8, \"ticks\": \"outside\", \"tickwidth\": 2}, \"colorscale\": [[0.0, \"#440154\"], [0.1111111111111111, \"#482878\"], [0.2222222222222222, \"#3e4989\"], [0.3333333333333333, \"#31688e\"], [0.4444444444444444, \"#26828e\"], [0.5555555555555556, \"#1f9e89\"], [0.6666666666666666, \"#35b779\"], [0.7777777777777778, \"#6ece58\"], [0.8888888888888888, \"#b5de2b\"], [1.0, \"#fde725\"]], \"type\": \"contour\"}], \"contourcarpet\": [{\"colorbar\": {\"outlinewidth\": 10, \"tickcolor\": \"rgb(36,36,36)\", \"ticklen\": 8, \"ticks\": \"outside\", \"tickwidth\": 2}, \"type\": \"contourcarpet\"}], \"heatmap\": [{\"colorbar\": {\"outlinewidth\": 10, \"tickcolor\": \"rgb(36,36,36)\", \"ticklen\": 8, \"ticks\": \"outside\", \"tickwidth\": 2}, \"colorscale\": [[0.0, \"#440154\"], [0.1111111111111111, \"#482878\"], [0.2222222222222222, \"#3e4989\"], [0.3333333333333333, \"#31688e\"], [0.4444444444444444, \"#26828e\"], [0.5555555555555556, \"#1f9e89\"], [0.6666666666666666, \"#35b779\"], [0.7777777777777778, \"#6ece58\"], [0.8888888888888888, \"#b5de2b\"], [1.0, \"#fde725\"]], \"type\": \"heatmap\"}], \"heatmapgl\": [{\"colorbar\": {\"outlinewidth\": 10, \"tickcolor\": \"rgb(36,36,36)\", \"ticklen\": 8, \"ticks\": \"outside\", \"tickwidth\": 2}, \"colorscale\": [[0.0, \"#440154\"], [0.1111111111111111, \"#482878\"], [0.2222222222222222, \"#3e4989\"], [0.3333333333333333, \"#31688e\"], [0.4444444444444444, \"#26828e\"], [0.5555555555555556, \"#1f9e89\"], [0.6666666666666666, \"#35b779\"], [0.7777777777777778, \"#6ece58\"], [0.8888888888888888, \"#b5de2b\"], [1.0, \"#fde725\"]], \"type\": \"heatmapgl\"}], \"histogram\": [{\"marker\": {\"line\": {\"color\": \"white\", \"width\": 0.6}}, \"type\": \"histogram\"}], \"histogram2d\": [{\"colorbar\": {\"outlinewidth\": 10, \"tickcolor\": \"rgb(36,36,36)\", \"ticklen\": 8, \"ticks\": \"outside\", \"tickwidth\": 2}, \"colorscale\": [[0.0, \"#440154\"], [0.1111111111111111, \"#482878\"], [0.2222222222222222, \"#3e4989\"], [0.3333333333333333, \"#31688e\"], [0.4444444444444444, \"#26828e\"], [0.5555555555555556, \"#1f9e89\"], [0.6666666666666666, \"#35b779\"], [0.7777777777777778, \"#6ece58\"], [0.8888888888888888, \"#b5de2b\"], [1.0, \"#fde725\"]], \"type\": \"histogram2d\"}], \"histogram2dcontour\": [{\"colorbar\": {\"outlinewidth\": 10, \"tickcolor\": \"rgb(36,36,36)\", \"ticklen\": 8, \"ticks\": \"outside\", \"tickwidth\": 2}, \"colorscale\": [[0.0, \"#440154\"], [0.1111111111111111, \"#482878\"], [0.2222222222222222, \"#3e4989\"], [0.3333333333333333, \"#31688e\"], [0.4444444444444444, \"#26828e\"], [0.5555555555555556, \"#1f9e89\"], [0.6666666666666666, \"#35b779\"], [0.7777777777777778, \"#6ece58\"], [0.8888888888888888, \"#b5de2b\"], [1.0, \"#fde725\"]], \"type\": \"histogram2dcontour\"}], \"mesh3d\": [{\"colorbar\": {\"outlinewidth\": 10, \"tickcolor\": \"rgb(36,36,36)\", \"ticklen\": 8, \"ticks\": \"outside\", \"tickwidth\": 2}, \"type\": \"mesh3d\"}], \"parcoords\": [{\"line\": {\"colorbar\": {\"outlinewidth\": 10, \"tickcolor\": \"rgb(36,36,36)\", \"ticklen\": 8, \"ticks\": \"outside\", \"tickwidth\": 2}}, \"type\": \"parcoords\"}], \"pie\": [{\"automargin\": true, \"type\": \"pie\"}], \"scatter\": [{\"marker\": {\"colorbar\": {\"outlinewidth\": 10, \"tickcolor\": \"rgb(36,36,36)\", \"ticklen\": 8, \"ticks\": \"outside\", \"tickwidth\": 2}}, \"type\": \"scatter\"}], \"scatter3d\": [{\"line\": {\"colorbar\": {\"outlinewidth\": 10, \"tickcolor\": \"rgb(36,36,36)\", \"ticklen\": 8, \"ticks\": \"outside\", \"tickwidth\": 2}}, \"marker\": {\"colorbar\": {\"outlinewidth\": 10, \"tickcolor\": \"rgb(36,36,36)\", \"ticklen\": 8, \"ticks\": \"outside\", \"tickwidth\": 2}}, \"type\": \"scatter3d\"}], \"scattercarpet\": [{\"marker\": {\"colorbar\": {\"outlinewidth\": 10, \"tickcolor\": \"rgb(36,36,36)\", \"ticklen\": 8, \"ticks\": \"outside\", \"tickwidth\": 2}}, \"type\": \"scattercarpet\"}], \"scattergeo\": [{\"marker\": {\"colorbar\": {\"outlinewidth\": 10, \"tickcolor\": \"rgb(36,36,36)\", \"ticklen\": 8, \"ticks\": \"outside\", \"tickwidth\": 2}}, \"type\": \"scattergeo\"}], \"scattergl\": [{\"marker\": {\"colorbar\": {\"outlinewidth\": 10, \"tickcolor\": \"rgb(36,36,36)\", \"ticklen\": 8, \"ticks\": \"outside\", \"tickwidth\": 2}}, \"type\": \"scattergl\"}], \"scattermapbox\": [{\"marker\": {\"colorbar\": {\"outlinewidth\": 10, \"tickcolor\": \"rgb(36,36,36)\", \"ticklen\": 8, \"ticks\": \"outside\", \"tickwidth\": 2}}, \"type\": \"scattermapbox\"}], \"scatterpolar\": [{\"marker\": {\"colorbar\": {\"outlinewidth\": 10, \"tickcolor\": \"rgb(36,36,36)\", \"ticklen\": 8, \"ticks\": \"outside\", \"tickwidth\": 2}}, \"type\": \"scatterpolar\"}], \"scatterpolargl\": [{\"marker\": {\"colorbar\": {\"outlinewidth\": 10, \"tickcolor\": \"rgb(36,36,36)\", \"ticklen\": 8, \"ticks\": \"outside\", \"tickwidth\": 2}}, \"type\": \"scatterpolargl\"}], \"scatterternary\": [{\"marker\": {\"colorbar\": {\"outlinewidth\": 10, \"tickcolor\": \"rgb(36,36,36)\", \"ticklen\": 8, \"ticks\": \"outside\", \"tickwidth\": 2}}, \"type\": \"scatterternary\"}], \"surface\": [{\"colorbar\": {\"outlinewidth\": 10, \"tickcolor\": \"rgb(36,36,36)\", \"ticklen\": 8, \"ticks\": \"outside\", \"tickwidth\": 2}, \"colorscale\": [[0.0, \"#440154\"], [0.1111111111111111, \"#482878\"], [0.2222222222222222, \"#3e4989\"], [0.3333333333333333, \"#31688e\"], [0.4444444444444444, \"#26828e\"], [0.5555555555555556, \"#1f9e89\"], [0.6666666666666666, \"#35b779\"], [0.7777777777777778, \"#6ece58\"], [0.8888888888888888, \"#b5de2b\"], [1.0, \"#fde725\"]], \"type\": \"surface\"}], \"table\": [{\"cells\": {\"fill\": {\"color\": \"rgb(237,237,237)\"}, \"line\": {\"color\": \"white\"}}, \"header\": {\"fill\": {\"color\": \"rgb(217,217,217)\"}, \"line\": {\"color\": \"white\"}}, \"type\": \"table\"}]}, \"layout\": {\"annotationdefaults\": {\"arrowhead\": 0, \"arrowwidth\": 1}, \"coloraxis\": {\"colorbar\": {\"outlinewidth\": 10, \"tickcolor\": \"rgb(36,36,36)\", \"ticklen\": 8, \"ticks\": \"outside\", \"tickwidth\": 2}}, \"colorscale\": {\"diverging\": [[0.0, \"rgb(103,0,31)\"], [0.1, \"rgb(178,24,43)\"], [0.2, \"rgb(214,96,77)\"], [0.3, \"rgb(244,165,130)\"], [0.4, \"rgb(253,219,199)\"], [0.5, \"rgb(247,247,247)\"], [0.6, \"rgb(209,229,240)\"], [0.7, \"rgb(146,197,222)\"], [0.8, \"rgb(67,147,195)\"], [0.9, \"rgb(33,102,172)\"], [1.0, \"rgb(5,48,97)\"]], \"sequential\": [[0.0, \"#440154\"], [0.1111111111111111, \"#482878\"], [0.2222222222222222, \"#3e4989\"], [0.3333333333333333, \"#31688e\"], [0.4444444444444444, \"#26828e\"], [0.5555555555555556, \"#1f9e89\"], [0.6666666666666666, \"#35b779\"], [0.7777777777777778, \"#6ece58\"], [0.8888888888888888, \"#b5de2b\"], [1.0, \"#fde725\"]], \"sequentialminus\": [[0.0, \"#440154\"], [0.1111111111111111, \"#482878\"], [0.2222222222222222, \"#3e4989\"], [0.3333333333333333, \"#31688e\"], [0.4444444444444444, \"#26828e\"], [0.5555555555555556, \"#1f9e89\"], [0.6666666666666666, \"#35b779\"], [0.7777777777777778, \"#6ece58\"], [0.8888888888888888, \"#b5de2b\"], [1.0, \"#fde725\"]]}, \"colorway\": [\"#1F77B4\", \"#FF7F0E\", \"#2CA02C\", \"#D62728\", \"#9467BD\", \"#8C564B\", \"#E377C2\", \"#7F7F7F\", \"#BCBD22\", \"#17BECF\"], \"font\": {\"color\": \"rgb(36,36,36)\"}, \"geo\": {\"bgcolor\": \"white\", \"lakecolor\": \"white\", \"landcolor\": \"white\", \"showlakes\": true, \"showland\": true, \"subunitcolor\": \"white\"}, \"hoverlabel\": {\"align\": \"left\"}, \"hovermode\": \"closest\", \"mapbox\": {\"style\": \"light\"}, \"paper_bgcolor\": \"white\", \"plot_bgcolor\": \"white\", \"polar\": {\"angularaxis\": {\"gridcolor\": \"rgb(232,232,232)\", \"linecolor\": \"rgb(36,36,36)\", \"showgrid\": false, \"showline\": true, \"ticks\": \"outside\"}, \"bgcolor\": \"white\", \"radialaxis\": {\"gridcolor\": \"rgb(232,232,232)\", \"linecolor\": \"rgb(36,36,36)\", \"showgrid\": false, \"showline\": true, \"ticks\": \"outside\"}}, \"scene\": {\"xaxis\": {\"backgroundcolor\": \"white\", \"gridcolor\": \"rgb(232,232,232)\", \"gridwidth\": 2, \"linecolor\": \"rgb(36,36,36)\", \"showbackground\": true, \"showgrid\": false, \"showline\": true, \"ticks\": \"outside\", \"zeroline\": false, \"zerolinecolor\": \"rgb(36,36,36)\"}, \"yaxis\": {\"backgroundcolor\": \"white\", \"gridcolor\": \"rgb(232,232,232)\", \"gridwidth\": 2, \"linecolor\": \"rgb(36,36,36)\", \"showbackground\": true, \"showgrid\": false, \"showline\": true, \"ticks\": \"outside\", \"zeroline\": false, \"zerolinecolor\": \"rgb(36,36,36)\"}, \"zaxis\": {\"backgroundcolor\": \"white\", \"gridcolor\": \"rgb(232,232,232)\", \"gridwidth\": 2, \"linecolor\": \"rgb(36,36,36)\", \"showbackground\": true, \"showgrid\": false, \"showline\": true, \"ticks\": \"outside\", \"zeroline\": false, \"zerolinecolor\": \"rgb(36,36,36)\"}}, \"shapedefaults\": {\"fillcolor\": \"black\", \"line\": {\"width\": 0}, \"opacity\": 0.3}, \"ternary\": {\"aaxis\": {\"gridcolor\": \"rgb(232,232,232)\", \"linecolor\": \"rgb(36,36,36)\", \"showgrid\": false, \"showline\": true, \"ticks\": \"outside\"}, \"baxis\": {\"gridcolor\": \"rgb(232,232,232)\", \"linecolor\": \"rgb(36,36,36)\", \"showgrid\": false, \"showline\": true, \"ticks\": \"outside\"}, \"bgcolor\": \"white\", \"caxis\": {\"gridcolor\": \"rgb(232,232,232)\", \"linecolor\": \"rgb(36,36,36)\", \"showgrid\": false, \"showline\": true, \"ticks\": \"outside\"}}, \"title\": {\"x\": 0.05}, \"xaxis\": {\"automargin\": true, \"gridcolor\": \"rgb(232,232,232)\", \"linecolor\": \"rgb(36,36,36)\", \"showgrid\": false, \"showline\": true, \"ticks\": \"outside\", \"title\": {\"standoff\": 15}, \"zeroline\": false, \"zerolinecolor\": \"rgb(36,36,36)\"}, \"yaxis\": {\"automargin\": true, \"gridcolor\": \"rgb(232,232,232)\", \"linecolor\": \"rgb(36,36,36)\", \"showgrid\": false, \"showline\": true, \"ticks\": \"outside\", \"title\": {\"standoff\": 15}, \"zeroline\": false, \"zerolinecolor\": \"rgb(36,36,36)\"}}}, \"title\": {\"text\": \"Coronavirus Cases Recovery in India\"}, \"xaxis\": {\"anchor\": \"y\", \"domain\": [0.0, 1.0], \"title\": {\"text\": \"date\"}}, \"yaxis\": {\"anchor\": \"x\", \"domain\": [0.0, 1.0], \"title\": {\"text\": \"totalrecovered\"}}},\n",
              "                        {\"responsive\": true}\n",
              "                    ).then(function(){\n",
              "                            \n",
              "var gd = document.getElementById('d502fd1e-eb8a-45bb-ab65-0e2eb4cab9f9');\n",
              "var x = new MutationObserver(function (mutations, observer) {{\n",
              "        var display = window.getComputedStyle(gd).display;\n",
              "        if (!display || display === 'none') {{\n",
              "            console.log([gd, 'removed!']);\n",
              "            Plotly.purge(gd);\n",
              "            observer.disconnect();\n",
              "        }}\n",
              "}});\n",
              "\n",
              "// Listen for the removal of the full notebook cells\n",
              "var notebookContainer = gd.closest('#notebook-container');\n",
              "if (notebookContainer) {{\n",
              "    x.observe(notebookContainer, {childList: true});\n",
              "}}\n",
              "\n",
              "// Listen for the clearing of the current output cell\n",
              "var outputEl = gd.closest('.output');\n",
              "if (outputEl) {{\n",
              "    x.observe(outputEl, {childList: true});\n",
              "}}\n",
              "\n",
              "                        })\n",
              "                };\n",
              "                \n",
              "            </script>\n",
              "        </div>\n",
              "</body>\n",
              "</html>"
            ]
          },
          "metadata": {
            "tags": []
          }
        }
      ]
    },
    {
      "cell_type": "code",
      "metadata": {
        "id": "csXkNtiWJsYg"
      },
      "source": [
        ""
      ],
      "execution_count": null,
      "outputs": []
    }
  ]
}